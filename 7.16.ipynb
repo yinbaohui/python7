{
 "cells": [
  {
   "cell_type": "markdown",
   "metadata": {},
   "source": [
    "# 基本程序设计\n",
    "- 一切代码输入，请使用英文输入法"
   ]
  },
  {
   "cell_type": "code",
   "execution_count": 1,
   "metadata": {},
   "outputs": [
    {
     "name": "stdout",
     "output_type": "stream",
     "text": [
      "hello word\n"
     ]
    }
   ],
   "source": [
    "print('hello word')"
   ]
  },
  {
   "cell_type": "code",
   "execution_count": 3,
   "metadata": {},
   "outputs": [
    {
     "name": "stdout",
     "output_type": "stream",
     "text": [
      "hello word\n"
     ]
    }
   ],
   "source": [
    "print('hello word')"
   ]
  },
  {
   "cell_type": "code",
   "execution_count": null,
   "metadata": {},
   "outputs": [],
   "source": []
  },
  {
   "cell_type": "code",
   "execution_count": null,
   "metadata": {},
   "outputs": [],
   "source": [
    "print 'hello'"
   ]
  },
  {
   "cell_type": "markdown",
   "metadata": {},
   "source": [
    "## 编写一个简单的程序\n",
    "- 圆公式面积： area = radius \\* radius \\* 3.1415"
   ]
  },
  {
   "cell_type": "code",
   "execution_count": 3,
   "metadata": {},
   "outputs": [
    {
     "name": "stdout",
     "output_type": "stream",
     "text": [
      "3.14\n"
     ]
    }
   ],
   "source": [
    "radius = 1.0\n",
    "area = radius * radius * 3.14 # 将后半部分的结果赋值给变量area\n",
    "# 变量一定要有初始值！！！\n",
    "# radius: 变量.area: 变量！\n",
    "# int 类型\n",
    "print(area)"
   ]
  },
  {
   "cell_type": "markdown",
   "metadata": {},
   "source": [
    "### 在Python里面不需要定义数据的类型"
   ]
  },
  {
   "cell_type": "markdown",
   "metadata": {},
   "source": [
    "## 控制台的读取与输入\n",
    "- input 输入进去的是字符串\n",
    "- eval"
   ]
  },
  {
   "cell_type": "code",
   "execution_count": 1,
   "metadata": {},
   "outputs": [
    {
     "name": "stdout",
     "output_type": "stream",
     "text": [
      "请输入半径1\n",
      "3.14\n"
     ]
    }
   ],
   "source": [
    "radius=eval(input('请输入半径'))\n",
    "area=radius * radius * 3.14\n",
    "print(area)"
   ]
  },
  {
   "cell_type": "code",
   "execution_count": 15,
   "metadata": {},
   "outputs": [
    {
     "name": "stdout",
     "output_type": "stream",
     "text": [
      "请输入半径10\n",
      "面积为: 314.0\n"
     ]
    }
   ],
   "source": [
    "radius = input('请输入半径') # input得到的结果是字符串类型\n",
    "radius = float(radius)\n",
    "area = radius * radius * 3.14\n",
    "print('面积为:',area)"
   ]
  },
  {
   "cell_type": "markdown",
   "metadata": {},
   "source": [
    "- 在jupyter用shift + tab 键可以跳出解释文档"
   ]
  },
  {
   "cell_type": "code",
   "execution_count": null,
   "metadata": {},
   "outputs": [],
   "source": [
    "import random\n",
    "number=random.random(0,10)\n",
    "if(number%2==0)\n",
    "print\n",
    "\n"
   ]
  },
  {
   "cell_type": "code",
   "execution_count": 1,
   "metadata": {},
   "outputs": [
    {
     "name": "stdout",
     "output_type": "stream",
     "text": [
      "1.000001\n"
     ]
    }
   ],
   "source": [
    "a=1\n",
    "b=1*10**(-1000)+10**-6#取幂\n",
    "c=a+b\n",
    "print(c)\n"
   ]
  },
  {
   "cell_type": "markdown",
   "metadata": {},
   "source": [
    "### "
   ]
  },
  {
   "cell_type": "code",
   "execution_count": 2,
   "metadata": {},
   "outputs": [
    {
     "data": {
      "text/plain": [
       "3"
      ]
     },
     "execution_count": 2,
     "metadata": {},
     "output_type": "execute_result"
    }
   ],
   "source": [
    "3%5"
   ]
  },
  {
   "cell_type": "code",
   "execution_count": 3,
   "metadata": {},
   "outputs": [
    {
     "data": {
      "text/plain": [
       "6.25"
      ]
     },
     "execution_count": 3,
     "metadata": {},
     "output_type": "execute_result"
    }
   ],
   "source": [
    "25/4"
   ]
  },
  {
   "cell_type": "code",
   "execution_count": 4,
   "metadata": {},
   "outputs": [
    {
     "data": {
      "text/plain": [
       "6"
      ]
     },
     "execution_count": 4,
     "metadata": {},
     "output_type": "execute_result"
    }
   ],
   "source": [
    "25//4"
   ]
  },
  {
   "cell_type": "code",
   "execution_count": 1,
   "metadata": {},
   "outputs": [
    {
     "ename": "SyntaxError",
     "evalue": "invalid syntax (<ipython-input-1-ea8004694cbd>, line 2)",
     "output_type": "error",
     "traceback": [
      "\u001b[1;36m  File \u001b[1;32m\"<ipython-input-1-ea8004694cbd>\"\u001b[1;36m, line \u001b[1;32m2\u001b[0m\n\u001b[1;33m    if (a%2=0)\u001b[0m\n\u001b[1;37m           ^\u001b[0m\n\u001b[1;31mSyntaxError\u001b[0m\u001b[1;31m:\u001b[0m invalid syntax\n"
     ]
    }
   ],
   "source": [
    "import a\n",
    "if (a%2=0)\n",
    "print(偶数)\n",
    "else\n",
    "print(奇数)\n",
    "\n"
   ]
  },
  {
   "cell_type": "code",
   "execution_count": null,
   "metadata": {},
   "outputs": [],
   "source": []
  },
  {
   "cell_type": "markdown",
   "metadata": {},
   "source": [
    "## 变量命名的规范\n",
    "- 由字母、数字、下划线构成\n",
    "- 不能以数字开头 \\*\n",
    "- 标识符不能是关键词(实际上是可以强制改变的，但是对于代码规范而言是极其不适合)\n",
    "- 可以是任意长度\n",
    "- 驼峰式命名"
   ]
  },
  {
   "cell_type": "code",
   "execution_count": null,
   "metadata": {},
   "outputs": [],
   "source": []
  },
  {
   "cell_type": "markdown",
   "metadata": {},
   "source": [
    "## 变量、赋值语句和赋值表达式\n",
    "- 变量: 通俗理解为可以变化的量\n",
    "- x = 2 \\* x + 1 在数学中是一个方程，而在语言中它是一个表达式\n",
    "- test = test + 1 \\* 变量在赋值之前必须有值"
   ]
  },
  {
   "cell_type": "markdown",
   "metadata": {},
   "source": [
    "## 同时赋值\n",
    "var1, var2,var3... = exp1,exp2,exp3..."
   ]
  },
  {
   "cell_type": "code",
   "execution_count": 1,
   "metadata": {},
   "outputs": [
    {
     "name": "stdout",
     "output_type": "stream",
     "text": [
      "3\n"
     ]
    }
   ],
   "source": [
    "a,b,c=1,1,1\n",
    "res=a+b+c\n",
    "print(res)"
   ]
  },
  {
   "cell_type": "code",
   "execution_count": 5,
   "metadata": {},
   "outputs": [
    {
     "name": "stdout",
     "output_type": "stream",
     "text": [
      "202\n"
     ]
    }
   ],
   "source": [
    "a=1\n",
    "b=1\n",
    "a=100\n",
    "d=1\n",
    "res=a+b+a+d\n",
    "print(res)"
   ]
  },
  {
   "cell_type": "code",
   "execution_count": 2,
   "metadata": {},
   "outputs": [
    {
     "name": "stdout",
     "output_type": "stream",
     "text": [
      "0.5\n"
     ]
    }
   ],
   "source": [
    "radius=1\n",
    "radius_1=2\n",
    "area=radius*radius/2\n",
    "print(area)"
   ]
  },
  {
   "cell_type": "code",
   "execution_count": 3,
   "metadata": {},
   "outputs": [
    {
     "name": "stdout",
     "output_type": "stream",
     "text": [
      "请输入底:1\n",
      "请输入高:3\n",
      "1.5\n"
     ]
    }
   ],
   "source": [
    "radius=eval(input('请输入底:'))\n",
    "radius_1=eval(input('请输入高:'))\n",
    "area=radius*radius_1/2\n",
    "print(area)"
   ]
  },
  {
   "cell_type": "code",
   "execution_count": 5,
   "metadata": {},
   "outputs": [
    {
     "name": "stdout",
     "output_type": "stream",
     "text": [
      "中奖\n"
     ]
    }
   ],
   "source": [
    "import random\n",
    "a=random.randint(1,10)\n",
    "if a%2==0:\n",
    " print('中奖')\n",
    "else:\n",
    " print('未中奖')\n"
   ]
  },
  {
   "cell_type": "markdown",
   "metadata": {},
   "source": [
    "## 定义常量\n",
    "- 常量：表示一种定值标识符，适合于多次使用的场景。比如PI\n",
    "- 注意：在其他低级语言中如果定义了常量，那么，该常量是不可以被改变的，但是在Python中一切皆对象，常量也是可以被改变的"
   ]
  },
  {
   "cell_type": "markdown",
   "metadata": {},
   "source": [
    "## 数值数据类型和运算符\n",
    "- 在Python中有两种数值类型（int 和 float）适用于加减乘除、模、幂次\n",
    "<img src = \"../Photo/01.jpg\"></img>"
   ]
  },
  {
   "cell_type": "markdown",
   "metadata": {},
   "source": [
    "## 运算符 /、//、**"
   ]
  },
  {
   "cell_type": "markdown",
   "metadata": {},
   "source": [
    "## 运算符 %"
   ]
  },
  {
   "cell_type": "markdown",
   "metadata": {},
   "source": [
    "## EP：\n",
    "- 25/4 多少，如果要将其转变为整数该怎么改写\n",
    "- 输入一个数字判断是奇数还是偶数\n",
    "- 进阶: 输入一个秒数，写一个程序将其转换成分和秒：例如500秒等于8分20秒\n",
    "- 进阶: 如果今天是星期六，那么10天以后是星期几？ 提示：每个星期的第0天是星期天"
   ]
  },
  {
   "cell_type": "code",
   "execution_count": 3,
   "metadata": {},
   "outputs": [
    {
     "name": "stdout",
     "output_type": "stream",
     "text": [
      "请输入一个秒数500\n",
      "8 分 20 秒\n"
     ]
    }
   ],
   "source": [
    "radius=eval(input('请输入一个秒数'))\n",
    "mins=radius // 60\n",
    "second=radius % 60\n",
    "print(mins,'分',second,'秒')"
   ]
  },
  {
   "cell_type": "code",
   "execution_count": 8,
   "metadata": {},
   "outputs": [
    {
     "name": "stdout",
     "output_type": "stream",
     "text": [
      "请输入一个数:10\n",
      "偶数\n"
     ]
    }
   ],
   "source": [
    "a=eval(input('请输入一个数:'))\n",
    "if a%2 == 0:\n",
    " print('偶数')\n",
    "else:\n",
    " print('奇数')"
   ]
  },
  {
   "cell_type": "code",
   "execution_count": 4,
   "metadata": {},
   "outputs": [
    {
     "name": "stdout",
     "output_type": "stream",
     "text": [
      "week:5\n",
      "day:10\n",
      "1\n"
     ]
    }
   ],
   "source": [
    "week=eval(input('week:'))\n",
    "plus_day=eval(input('day:'))\n",
    "res=(week + plus_day)%7\n",
    "print(res)"
   ]
  },
  {
   "cell_type": "markdown",
   "metadata": {},
   "source": [
    "## 科学计数法\n",
    "- 1.234e+2\n",
    "- 1.234e-2"
   ]
  },
  {
   "cell_type": "code",
   "execution_count": 5,
   "metadata": {},
   "outputs": [
    {
     "data": {
      "text/plain": [
       "123.4"
      ]
     },
     "execution_count": 5,
     "metadata": {},
     "output_type": "execute_result"
    }
   ],
   "source": [
    "1.234e+2"
   ]
  },
  {
   "cell_type": "markdown",
   "metadata": {},
   "source": [
    "## 计算表达式和运算优先级\n",
    "<img src = \"../Photo/02.png\"></img>\n",
    "<img src = \"../Photo/03.png\"></img>"
   ]
  },
  {
   "cell_type": "code",
   "execution_count": 2,
   "metadata": {},
   "outputs": [
    {
     "name": "stdout",
     "output_type": "stream",
     "text": [
      "127.4\n"
     ]
    }
   ],
   "source": [
    "x,y=1,1\n",
    "a,b,c=0,0,0\n",
    "q=(3+4*x)/5-(10*(y-5)*(a+b+c))/x+9*(4/x+(9+x)/y)\n",
    "print(q)"
   ]
  },
  {
   "cell_type": "code",
   "execution_count": 4,
   "metadata": {},
   "outputs": [
    {
     "name": "stdout",
     "output_type": "stream",
     "text": [
      "2\n"
     ]
    }
   ],
   "source": [
    "a=1\n",
    "a+=1\n",
    "print(a)"
   ]
  },
  {
   "cell_type": "code",
   "execution_count": null,
   "metadata": {},
   "outputs": [],
   "source": []
  },
  {
   "cell_type": "markdown",
   "metadata": {},
   "source": [
    "## 增强型赋值运算\n",
    "<img src = \"../Photo/04.png\"></img>"
   ]
  },
  {
   "cell_type": "markdown",
   "metadata": {},
   "source": [
    "## 类型转换\n",
    "- float  -> int\n",
    "- 四舍五入 round"
   ]
  },
  {
   "cell_type": "code",
   "execution_count": null,
   "metadata": {},
   "outputs": [],
   "source": [
    "a=1\n",
    "float(a)#强制转换"
   ]
  },
  {
   "cell_type": "code",
   "execution_count": 5,
   "metadata": {},
   "outputs": [
    {
     "data": {
      "text/plain": [
       "1.46"
      ]
     },
     "execution_count": 5,
     "metadata": {},
     "output_type": "execute_result"
    }
   ],
   "source": [
    "round(1.455,2)#前面数字后面是保留的位数"
   ]
  },
  {
   "cell_type": "code",
   "execution_count": null,
   "metadata": {},
   "outputs": [],
   "source": []
  },
  {
   "cell_type": "markdown",
   "metadata": {},
   "source": [
    "## EP:\n",
    "- 如果一个年营业税为0.06%，那么对于197.55e+2的年收入，需要交税为多少？(结果保留2为小数)\n",
    "- 必须使用科学计数法"
   ]
  },
  {
   "cell_type": "code",
   "execution_count": 6,
   "metadata": {},
   "outputs": [
    {
     "data": {
      "text/plain": [
       "1185"
      ]
     },
     "execution_count": 6,
     "metadata": {},
     "output_type": "execute_result"
    }
   ],
   "source": [
    "round (6/100*197.55e+2)\n",
    "\n"
   ]
  },
  {
   "cell_type": "markdown",
   "metadata": {},
   "source": [
    "# Project\n",
    "- 用Python写一个贷款计算器程序：输入的是月供(monthlyPayment) 输出的是总还款数(totalpayment)\n",
    "![](../Photo/05.png)"
   ]
  },
  {
   "cell_type": "code",
   "execution_count": null,
   "metadata": {},
   "outputs": [],
   "source": [
    "a=eval(input('请输入月利率:'))\n",
    "b=eval(input('请输入贷款数:'))\n",
    "c=eval(input('请输入年限:'))\n",
    "\n"
   ]
  },
  {
   "cell_type": "code",
   "execution_count": null,
   "metadata": {},
   "outputs": [],
   "source": []
  },
  {
   "cell_type": "markdown",
   "metadata": {},
   "source": [
    "# Homework\n",
    "- 1\n",
    "<img src=\"../Photo/06.png\"></img>"
   ]
  },
  {
   "cell_type": "code",
   "execution_count": 7,
   "metadata": {},
   "outputs": [
    {
     "name": "stdout",
     "output_type": "stream",
     "text": [
      "请输入一个温度43\n",
      "109.4\n"
     ]
    }
   ],
   "source": [
    "celsius=eval(input('请输入一个温度'))\n",
    "fahrenheit=(9/5)*celsius+32\n",
    "print(fahrenheit)"
   ]
  },
  {
   "cell_type": "markdown",
   "metadata": {},
   "source": [
    "- 2\n",
    "<img src=\"../Photo/07.png\"></img>"
   ]
  },
  {
   "cell_type": "code",
   "execution_count": 9,
   "metadata": {},
   "outputs": [
    {
     "name": "stdout",
     "output_type": "stream",
     "text": [
      "请输入半径5.5\n",
      "请输入高12\n",
      "95.03317777109125 1140.398133253095\n"
     ]
    }
   ],
   "source": [
    "import math\n",
    "radius=eval(input('请输入半径'))\n",
    "length=eval(input('请输入高'))\n",
    "area=radius*radius*math.pi\n",
    "volume=area*length\n",
    "print(area,volume)"
   ]
  },
  {
   "cell_type": "markdown",
   "metadata": {},
   "source": [
    "- 3\n",
    "<img src=\"../Photo/08.png\"></img>"
   ]
  },
  {
   "cell_type": "code",
   "execution_count": 10,
   "metadata": {},
   "outputs": [
    {
     "name": "stdout",
     "output_type": "stream",
     "text": [
      "请输入英尺数16.5\n",
      "5.0325\n"
     ]
    }
   ],
   "source": [
    "feet=eval(input('请输入英尺数'))\n",
    "meter=0.305*feet\n",
    "print(meter)"
   ]
  },
  {
   "cell_type": "markdown",
   "metadata": {},
   "source": [
    "- 4\n",
    "<img src=\"../Photo/10.png\"></img>"
   ]
  },
  {
   "cell_type": "code",
   "execution_count": 11,
   "metadata": {},
   "outputs": [
    {
     "name": "stdout",
     "output_type": "stream",
     "text": [
      "请输入千克数55.5\n",
      "请输入开始的温度3.5\n",
      "请输入最后的温度10.5\n",
      "1625484.0\n"
     ]
    }
   ],
   "source": [
    "k=eval(input('请输入千克数'))\n",
    "i=eval(input('请输入开始的温度'))\n",
    "f=eval(input('请输入最后的温度'))\n",
    "q=k*(f-i)*4184\n",
    "print(q)"
   ]
  },
  {
   "cell_type": "markdown",
   "metadata": {},
   "source": [
    "- 5\n",
    "<img src=\"../Photo/11.png\"></img>"
   ]
  },
  {
   "cell_type": "code",
   "execution_count": 12,
   "metadata": {},
   "outputs": [
    {
     "name": "stdout",
     "output_type": "stream",
     "text": [
      "请输入差额:1000\n",
      "请输入差额3.5\n",
      "2.916666666666667\n"
     ]
    }
   ],
   "source": [
    "b=eval(input('请输入差额:'))\n",
    "i=eval(input('请输入差额'))\n",
    "l=i*(b/1200)\n",
    "print(l)"
   ]
  },
  {
   "cell_type": "markdown",
   "metadata": {},
   "source": [
    "- 6\n",
    "<img src=\"../Photo/12.png\"></img>"
   ]
  },
  {
   "cell_type": "code",
   "execution_count": 13,
   "metadata": {},
   "outputs": [
    {
     "name": "stdout",
     "output_type": "stream",
     "text": [
      "请输入初始速度5.5\n",
      "请输入末速度50.9\n",
      "请输入占用时间4.5\n",
      "10.088888888888889\n"
     ]
    }
   ],
   "source": [
    "v_0=eval(input('请输入初始速度'))\n",
    "v_1=eval(input('请输入末速度'))\n",
    "t=eval(input('请输入占用时间'))\n",
    "a=(v_1-v_0)/t\n",
    "print(a)"
   ]
  },
  {
   "cell_type": "markdown",
   "metadata": {},
   "source": [
    "- 7 进阶\n",
    "<img src=\"../Photo/13.png\"></img>"
   ]
  },
  {
   "cell_type": "code",
   "execution_count": 6,
   "metadata": {},
   "outputs": [
    {
     "name": "stdout",
     "output_type": "stream",
     "text": [
      "请输入存款数100\n",
      "702.919\n",
      "803.336\n",
      "903.753\n",
      "1004.1700000000001\n",
      "1104.587\n",
      "1205.004\n",
      "1305.421\n",
      "1405.838\n",
      "1506.255\n",
      "1606.672\n",
      "1707.089\n"
     ]
    }
   ],
   "source": [
    "a=eval(input('请输入存款数'))\n",
    "for i in range(1,12):\n",
    "    i+=6\n",
    "    a=100*(1+0.00417)*i\n",
    "    print(a)\n"
   ]
  },
  {
   "cell_type": "code",
   "execution_count": 1,
   "metadata": {},
   "outputs": [
    {
     "name": "stdout",
     "output_type": "stream",
     "text": [
      "请输入每月存款数100\n",
      "after the sixth mouth account valueis 608.8181155768638\n",
      "608.8181155768638 2\n"
     ]
    }
   ],
   "source": [
    "a=eval(input('请输入每月存款数'))\n",
    "b=1+0.00417\n",
    "one=a*b\n",
    "two=(a+one)*b\n",
    "three=(a+two)*b\n",
    "four=(a+three)*b\n",
    "five=(a+four)*b\n",
    "six=(a+five)*b\n",
    "print('after the sixth mouth account valueis',six)\n",
    "print(six,2)"
   ]
  },
  {
   "cell_type": "markdown",
   "metadata": {},
   "source": [
    "- 8 进阶\n",
    "<img src=\"../Photo/14.png\"></img>"
   ]
  },
  {
   "cell_type": "code",
   "execution_count": 2,
   "metadata": {},
   "outputs": [
    {
     "name": "stdout",
     "output_type": "stream",
     "text": [
      "请输入一个数:999\n",
      "27\n"
     ]
    }
   ],
   "source": [
    "import random\n",
    "random=random.randint(0,1000)\n",
    "a=eval(input('请输入一个数:'))\n",
    "b=a%10\n",
    "c=a//10\n",
    "e=c%10\n",
    "f=c//10\n",
    "g=b+e+f\n",
    "print(g)"
   ]
  },
  {
   "cell_type": "code",
   "execution_count": 3,
   "metadata": {},
   "outputs": [
    {
     "name": "stdout",
     "output_type": "stream",
     "text": [
      ">>1,1.0\n",
      "1 1.0\n",
      "<class 'int'> <class 'float'>\n"
     ]
    }
   ],
   "source": [
    "a,b = eval(input('>>'))\n",
    "print(a,b)\n",
    "print(type(a),type(b))"
   ]
  },
  {
   "cell_type": "code",
   "execution_count": 4,
   "metadata": {},
   "outputs": [
    {
     "name": "stdout",
     "output_type": "stream",
     "text": [
      ">>1,2,3,4,5,6\n",
      "(1, 2, 3, 4, 5, 6)\n"
     ]
    }
   ],
   "source": [
    "a = eval(input('>>'))\n",
    "print(a)"
   ]
  },
  {
   "cell_type": "code",
   "execution_count": null,
   "metadata": {},
   "outputs": [],
   "source": []
  }
 ],
 "metadata": {
  "kernelspec": {
   "display_name": "Python 3",
   "language": "python",
   "name": "python3"
  },
  "language_info": {
   "codemirror_mode": {
    "name": "ipython",
    "version": 3
   },
   "file_extension": ".py",
   "mimetype": "text/x-python",
   "name": "python",
   "nbconvert_exporter": "python",
   "pygments_lexer": "ipython3",
   "version": "3.7.3"
  }
 },
 "nbformat": 4,
 "nbformat_minor": 2
}
