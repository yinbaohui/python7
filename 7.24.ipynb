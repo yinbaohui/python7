{
 "cells": [
  {
   "cell_type": "markdown",
   "metadata": {},
   "source": [
    "# 更多字符串和特殊方法\n",
    "- 前面我们已经学了类，在Python中还有一些特殊的方法起着非常重要的作用，这里会介绍一些特殊的方法和运算符的重载，以及使用特殊方法设计类"
   ]
  },
  {
   "cell_type": "markdown",
   "metadata": {},
   "source": [
    "## str 类\n",
    "- 一个str对象是不可变的，也就是说，一旦创建了这个字符串，那么它的内容在认为不改变的情况下是不会变的\n",
    "- s1 = str()\n",
    "- s2 = str('welcome to Python')"
   ]
  },
  {
   "cell_type": "code",
   "execution_count": 5,
   "metadata": {},
   "outputs": [
    {
     "name": "stdout",
     "output_type": "stream",
     "text": [
      "12345\n"
     ]
    }
   ],
   "source": [
    "b=str(12345)#str为强制类型转换\n",
    "print(b)"
   ]
  },
  {
   "cell_type": "markdown",
   "metadata": {},
   "source": [
    "## 创建两个对象，分别观察两者id\n",
    "- id为Python内存地址"
   ]
  },
  {
   "cell_type": "code",
   "execution_count": 6,
   "metadata": {},
   "outputs": [
    {
     "name": "stdout",
     "output_type": "stream",
     "text": [
      "2595693504752\n",
      "2595693504752\n"
     ]
    }
   ],
   "source": [
    "print(id('a'))\n",
    "print(id('a'))"
   ]
  },
  {
   "cell_type": "code",
   "execution_count": 7,
   "metadata": {},
   "outputs": [
    {
     "name": "stdout",
     "output_type": "stream",
     "text": [
      "2595693504752\n",
      "2595693504752\n"
     ]
    }
   ],
   "source": [
    "a='a'\n",
    "b='a'\n",
    "print(id(a))\n",
    "print(id(b))\n"
   ]
  },
  {
   "cell_type": "code",
   "execution_count": 9,
   "metadata": {},
   "outputs": [
    {
     "name": "stdout",
     "output_type": "stream",
     "text": [
      "140706272547648\n",
      "140706272547648\n"
     ]
    }
   ],
   "source": [
    "a=1\n",
    "b=1\n",
    "print(id(a))\n",
    "print(id(b))"
   ]
  },
  {
   "cell_type": "code",
   "execution_count": 8,
   "metadata": {},
   "outputs": [
    {
     "name": "stdout",
     "output_type": "stream",
     "text": [
      "2595774399920\n",
      "2595774399952\n"
     ]
    }
   ],
   "source": [
    "a=10000#数字在一定范围内用同一个IP地址，大于两千以上要开辟一个IP地址\n",
    "b=10000\n",
    "print(id(a))\n",
    "print(id(b))\n"
   ]
  },
  {
   "cell_type": "markdown",
   "metadata": {},
   "source": [
    "## 处理字符串的函数\n",
    "- len\n",
    "- max\n",
    "- min\n",
    "- 字符串一切是按照ASCII码值进行比较"
   ]
  },
  {
   "cell_type": "code",
   "execution_count": 17,
   "metadata": {},
   "outputs": [
    {
     "data": {
      "text/plain": [
       "2"
      ]
     },
     "execution_count": 17,
     "metadata": {},
     "output_type": "execute_result"
    }
   ],
   "source": [
    "len('虎王')"
   ]
  },
  {
   "cell_type": "code",
   "execution_count": 10,
   "metadata": {},
   "outputs": [
    {
     "data": {
      "text/plain": [
       "3"
      ]
     },
     "execution_count": 10,
     "metadata": {},
     "output_type": "execute_result"
    }
   ],
   "source": [
    "len('abc')"
   ]
  },
  {
   "cell_type": "code",
   "execution_count": 11,
   "metadata": {},
   "outputs": [
    {
     "data": {
      "text/plain": [
       "4"
      ]
     },
     "execution_count": 11,
     "metadata": {},
     "output_type": "execute_result"
    }
   ],
   "source": [
    "len('abc ')"
   ]
  },
  {
   "cell_type": "code",
   "execution_count": 14,
   "metadata": {},
   "outputs": [
    {
     "name": "stdout",
     "output_type": "stream",
     "text": [
      "a\n",
      "b\n",
      "c\n"
     ]
    }
   ],
   "source": [
    "i=0\n",
    "num='abc'\n",
    "while i<len('abc'):\n",
    "    print(num[i])\n",
    "    i+=1"
   ]
  },
  {
   "cell_type": "code",
   "execution_count": 45,
   "metadata": {},
   "outputs": [
    {
     "name": "stdout",
     "output_type": "stream",
     "text": [
      "a\n",
      "b\n",
      "c\n"
     ]
    }
   ],
   "source": [
    "i=0\n",
    "num='abc'\n",
    "while i<len('abc'):\n",
    "    print(num[i])\n",
    "    i+=1"
   ]
  },
  {
   "cell_type": "markdown",
   "metadata": {},
   "source": [
    "## 下角标运算符 []\n",
    "- 一个字符串是一个字符序列，可以通过索引进行访问\n",
    "- 观察字符串是否是一个可迭代序列  \\__iter__"
   ]
  },
  {
   "cell_type": "code",
   "execution_count": 18,
   "metadata": {},
   "outputs": [
    {
     "data": {
      "text/plain": [
       "'f'"
      ]
     },
     "execution_count": 18,
     "metadata": {},
     "output_type": "execute_result"
    }
   ],
   "source": [
    "a='fjalhajf'\n",
    "a[0]"
   ]
  },
  {
   "cell_type": "markdown",
   "metadata": {},
   "source": [
    "## 切片 [start: end]\n",
    "- start 默认值为0\n",
    "- end 默认值为-1"
   ]
  },
  {
   "cell_type": "code",
   "execution_count": 46,
   "metadata": {},
   "outputs": [
    {
     "name": "stdout",
     "output_type": "stream",
     "text": [
      "ca\n"
     ]
    }
   ],
   "source": [
    "n='abcse'\n",
    "n3=n[2::-2]\n",
    "print(n3)"
   ]
  },
  {
   "cell_type": "code",
   "execution_count": 47,
   "metadata": {},
   "outputs": [],
   "source": [
    "n='abcse'\n",
    "def jie_(n):\n",
    "    for i in n:\n",
    "        n1=n[3:5]\n",
    "        n2=n[0]\n",
    "        n3=n[2::-2]\n",
    "    print(n1,n2,n3)\n",
    "    \n",
    "    "
   ]
  },
  {
   "cell_type": "code",
   "execution_count": 48,
   "metadata": {},
   "outputs": [
    {
     "name": "stdout",
     "output_type": "stream",
     "text": [
      "se a ca\n"
     ]
    }
   ],
   "source": [
    "jie_(n)"
   ]
  },
  {
   "cell_type": "code",
   "execution_count": 22,
   "metadata": {},
   "outputs": [
    {
     "data": {
      "text/plain": [
       "'gw'"
      ]
     },
     "execution_count": 22,
     "metadata": {},
     "output_type": "execute_result"
    }
   ],
   "source": [
    "a='jingwang'\n",
    "a[3:5]"
   ]
  },
  {
   "cell_type": "code",
   "execution_count": 21,
   "metadata": {},
   "outputs": [
    {
     "data": {
      "text/plain": [
       "'gnawgnij'"
      ]
     },
     "execution_count": 21,
     "metadata": {},
     "output_type": "execute_result"
    }
   ],
   "source": [
    "a='jingwang'\n",
    "a[::-1]#相当于len减一\n"
   ]
  },
  {
   "cell_type": "code",
   "execution_count": 23,
   "metadata": {},
   "outputs": [
    {
     "name": "stdout",
     "output_type": "stream",
     "text": [
      "http\n"
     ]
    }
   ],
   "source": [
    "num='http://localhost:8888/notebooks/Desktop/python/%E8%AF%BE%E4%BB%B6/7.24.ipynb'\n",
    "n1=num[0:4]\n",
    "print(n1)"
   ]
  },
  {
   "cell_type": "code",
   "execution_count": 50,
   "metadata": {},
   "outputs": [
    {
     "data": {
      "text/plain": [
       "'ca'"
      ]
     },
     "execution_count": 50,
     "metadata": {},
     "output_type": "execute_result"
    }
   ],
   "source": [
    "b='abcdef'\n",
    "b[2::-2]"
   ]
  },
  {
   "cell_type": "code",
   "execution_count": 27,
   "metadata": {},
   "outputs": [
    {
     "data": {
      "text/plain": [
       "'bdf'"
      ]
     },
     "execution_count": 27,
     "metadata": {},
     "output_type": "execute_result"
    }
   ],
   "source": [
    "b='abcdef'\n",
    "b[1:6:2]"
   ]
  },
  {
   "cell_type": "code",
   "execution_count": 28,
   "metadata": {},
   "outputs": [
    {
     "data": {
      "text/plain": [
       "'bdf'"
      ]
     },
     "execution_count": 28,
     "metadata": {},
     "output_type": "execute_result"
    }
   ],
   "source": [
    "b='abcdef'\n",
    "b[1::2]"
   ]
  },
  {
   "cell_type": "markdown",
   "metadata": {},
   "source": [
    "## 链接运算符 + 和复制运算符 *\n",
    "- \\+ 链接多个字符串，同时''.join()也是\n",
    "- \\* 复制多个字符串"
   ]
  },
  {
   "cell_type": "code",
   "execution_count": null,
   "metadata": {},
   "outputs": [],
   "source": [
    "#字符串之间只能加，字符串与数字之间只能相乘，浮点数不可以"
   ]
  },
  {
   "cell_type": "code",
   "execution_count": 1,
   "metadata": {},
   "outputs": [
    {
     "name": "stdout",
     "output_type": "stream",
     "text": [
      "*****\n",
      "*   *\n",
      "*   *\n",
      "*   *\n",
      "*****\n"
     ]
    }
   ],
   "source": [
    "for i in range(1,6):\n",
    "    if i==1 or i==5:\n",
    "        print('*'*5)\n",
    "    else:\n",
    "        print('*'+' '*3+'*')"
   ]
  },
  {
   "cell_type": "code",
   "execution_count": 51,
   "metadata": {},
   "outputs": [
    {
     "name": "stdout",
     "output_type": "stream",
     "text": [
      "*****\n",
      "*   *\n",
      "*   *\n",
      "*   *\n",
      "*****\n"
     ]
    }
   ],
   "source": [
    "for i in range(1,6):\n",
    "    if i==1 or i==5:\n",
    "        print('*'*5)\n",
    "    else:\n",
    "        print('*'+' '*3+'*')"
   ]
  },
  {
   "cell_type": "code",
   "execution_count": 2,
   "metadata": {},
   "outputs": [
    {
     "data": {
      "text/plain": [
       "'a'"
      ]
     },
     "execution_count": 2,
     "metadata": {},
     "output_type": "execute_result"
    }
   ],
   "source": [
    "''.join('a')"
   ]
  },
  {
   "cell_type": "code",
   "execution_count": 3,
   "metadata": {},
   "outputs": [
    {
     "data": {
      "text/plain": [
       "'a!b!c'"
      ]
     },
     "execution_count": 3,
     "metadata": {},
     "output_type": "execute_result"
    }
   ],
   "source": [
    "'!'.join('abc')#'a'+'!'+'b'+'!'+'c'"
   ]
  },
  {
   "cell_type": "code",
   "execution_count": 4,
   "metadata": {},
   "outputs": [],
   "source": [
    "import requests"
   ]
  },
  {
   "cell_type": "markdown",
   "metadata": {},
   "source": [
    "## in 和 not in 运算符\n",
    "- in :判断某个字符是否在字符串内 \n",
    "- not in ：判断某个字符是否不在字符串内\n",
    "- 返回的是布尔值"
   ]
  },
  {
   "cell_type": "code",
   "execution_count": 5,
   "metadata": {},
   "outputs": [
    {
     "data": {
      "text/plain": [
       "False"
      ]
     },
     "execution_count": 5,
     "metadata": {},
     "output_type": "execute_result"
    }
   ],
   "source": [
    "a='虎王真傻'\n",
    "b='帅'\n",
    "a in b"
   ]
  },
  {
   "cell_type": "code",
   "execution_count": 6,
   "metadata": {},
   "outputs": [
    {
     "data": {
      "text/plain": [
       "True"
      ]
     },
     "execution_count": 6,
     "metadata": {},
     "output_type": "execute_result"
    }
   ],
   "source": [
    "a='虎王真傻'\n",
    "b='帅'\n",
    "a not in b"
   ]
  },
  {
   "cell_type": "code",
   "execution_count": 35,
   "metadata": {},
   "outputs": [],
   "source": [
    "def num_(a,b):\n",
    "    for i in a:\n",
    "        if i == b:\n",
    "            return True\n",
    "        else:\n",
    "            return False"
   ]
  },
  {
   "cell_type": "code",
   "execution_count": 36,
   "metadata": {},
   "outputs": [
    {
     "data": {
      "text/plain": [
       "True"
      ]
     },
     "execution_count": 36,
     "metadata": {},
     "output_type": "execute_result"
    }
   ],
   "source": [
    "num_(a,b)"
   ]
  },
  {
   "cell_type": "code",
   "execution_count": 40,
   "metadata": {},
   "outputs": [
    {
     "ename": "SyntaxError",
     "evalue": "(unicode error) 'unicodeescape' codec can't decode bytes in position 2-3: truncated \\UXXXXXXXX escape (<ipython-input-40-9077f701e603>, line 2)",
     "output_type": "error",
     "traceback": [
      "\u001b[1;36m  File \u001b[1;32m\"<ipython-input-40-9077f701e603>\"\u001b[1;36m, line \u001b[1;32m2\u001b[0m\n\u001b[1;33m    path = 'C:\\Users\\WU\\Desktop\\python\\课件\\mail.text'\u001b[0m\n\u001b[1;37m          ^\u001b[0m\n\u001b[1;31mSyntaxError\u001b[0m\u001b[1;31m:\u001b[0m (unicode error) 'unicodeescape' codec can't decode bytes in position 2-3: truncated \\UXXXXXXXX escape\n"
     ]
    }
   ],
   "source": [
    "#>>cd Dowloads\n",
    "path = 'C:\\Users\\WU\\Desktop\\python\\课件'\n",
    "with open(path) as f:#给路径重新命名\n",
    "    while 1:\n",
    "        lines =f.readline()\n",
    "        print(lines)"
   ]
  },
  {
   "cell_type": "code",
   "execution_count": null,
   "metadata": {},
   "outputs": [],
   "source": []
  },
  {
   "cell_type": "markdown",
   "metadata": {},
   "source": [
    "## 比较字符串\n",
    "-  ==, !=, >=, <=, >, <\n",
    "- 依照ASCII码值进行比较"
   ]
  },
  {
   "cell_type": "markdown",
   "metadata": {},
   "source": [
    "## 测试字符串\n",
    "![](../Photo/99.png)\n",
    "- 注意：\n",
    "> - isalnum() 中是不能包含空格，否则会返回False"
   ]
  },
  {
   "cell_type": "code",
   "execution_count": 6,
   "metadata": {},
   "outputs": [],
   "source": [
    "password='dhhu789'\n",
    "def num_(password):\n",
    "    N=len(password)\n",
    "    count1=0\n",
    "    count2=0\n",
    "    count3=0\n",
    "    for i in a:\n",
    "        if i.isdigit():\n",
    "            count1+=1\n",
    "        elif i.islower():\n",
    "            count2+=1\n",
    "        elif i.isupper():\n",
    "            count3+=1\n",
    "    if count1==0:\n",
    "        print('密码必修有数字')\n",
    "    if count2==0:\n",
    "        print('密码必须有小写')\n",
    "    if count3==0:\n",
    "        print('密码必须有大写')\n",
    "    if N<8:\n",
    "        print('密码必须超过8位')\n",
    "        \n",
    "    \n",
    "        \n"
   ]
  },
  {
   "cell_type": "code",
   "execution_count": 7,
   "metadata": {},
   "outputs": [
    {
     "name": "stdout",
     "output_type": "stream",
     "text": [
      "密码必修有数字\n",
      "密码必须有大写\n",
      "密码必须超过8位\n"
     ]
    }
   ],
   "source": [
    "num_(password)"
   ]
  },
  {
   "cell_type": "code",
   "execution_count": 1,
   "metadata": {},
   "outputs": [
    {
     "data": {
      "text/plain": [
       "True"
      ]
     },
     "execution_count": 1,
     "metadata": {},
     "output_type": "execute_result"
    }
   ],
   "source": [
    "b='druh'\n",
    "b.isalpha()"
   ]
  },
  {
   "cell_type": "code",
   "execution_count": 2,
   "metadata": {},
   "outputs": [
    {
     "data": {
      "text/plain": [
       "True"
      ]
     },
     "execution_count": 2,
     "metadata": {},
     "output_type": "execute_result"
    }
   ],
   "source": [
    "a='123'\n",
    "a.isdigit()"
   ]
  },
  {
   "cell_type": "code",
   "execution_count": 4,
   "metadata": {},
   "outputs": [
    {
     "data": {
      "text/plain": [
       "True"
      ]
     },
     "execution_count": 4,
     "metadata": {},
     "output_type": "execute_result"
    }
   ],
   "source": [
    "a='def'\n",
    "a.isidentifier()"
   ]
  },
  {
   "cell_type": "code",
   "execution_count": 5,
   "metadata": {},
   "outputs": [
    {
     "data": {
      "text/plain": [
       "True"
      ]
     },
     "execution_count": 5,
     "metadata": {},
     "output_type": "execute_result"
    }
   ],
   "source": [
    "b='swdbwd'\n",
    "b.islower()"
   ]
  },
  {
   "cell_type": "code",
   "execution_count": null,
   "metadata": {},
   "outputs": [],
   "source": []
  },
  {
   "cell_type": "markdown",
   "metadata": {},
   "source": [
    "## 搜索子串\n",
    "![](../Photo/100.png)"
   ]
  },
  {
   "cell_type": "code",
   "execution_count": 8,
   "metadata": {},
   "outputs": [
    {
     "data": {
      "text/plain": [
       "True"
      ]
     },
     "execution_count": 8,
     "metadata": {},
     "output_type": "execute_result"
    }
   ],
   "source": [
    "a='帅'\n",
    "b='帅帅'\n",
    "b.endswith(b)"
   ]
  },
  {
   "cell_type": "code",
   "execution_count": 12,
   "metadata": {},
   "outputs": [
    {
     "data": {
      "text/plain": [
       "3"
      ]
     },
     "execution_count": 12,
     "metadata": {},
     "output_type": "execute_result"
    }
   ],
   "source": [
    "c='mdnm'\n",
    "c.rfind('m')#从右向左找,返回的索引从左向右的"
   ]
  },
  {
   "cell_type": "code",
   "execution_count": 13,
   "metadata": {},
   "outputs": [
    {
     "data": {
      "text/plain": [
       "0"
      ]
     },
     "execution_count": 13,
     "metadata": {},
     "output_type": "execute_result"
    }
   ],
   "source": [
    "c='mdnm'\n",
    "c.find('m')#从右向左找"
   ]
  },
  {
   "cell_type": "code",
   "execution_count": 29,
   "metadata": {},
   "outputs": [
    {
     "name": "stdout",
     "output_type": "stream",
     "text": [
      "http://www.4399dmw.com/haizeiwang/tupian/list\n",
      "http://www.4399dmw.com/haizeiwang/tupian/list-273-8.html\n",
      "http://dmimg.5054399.com/allimg/140607/32_140607105859_1.jpg\n",
      "http://dmimg.5054399.com/allimg/140606/32_140606112345_1.jpg\n",
      "http://dmimg.5054399.com/allimg/140604/6_140604171337_2.jpg\n",
      "http://dmimg.5054399.com/allimg/140603/6_140603102157_1.jpg\n",
      "http://dmimg.5054399.com/allimg/140603/32_140603103002_1.jpg\n",
      "http://dmimg.5054399.com/allimg/140529/32_140529183118_1.jpg\n",
      "http://dmimg.5054399.com/allimg/140529/32_140529175157_1.jpg\n",
      "http://dmimg.5054399.com/allimg/140529/32_140529170933_1.jpg\n",
      "http://dmimg.5054399.com/allimg/140529/32_140529144901_1.jpg\n",
      "http://dmimg.5054399.com/allimg/140529/32_140529102408_1.jpg\n",
      "http://dmimg.5054399.com/allimg/140527/32_140527100306_1.jpg\n",
      "http://dmimg.5054399.com/allimg/140524/6_140524151152_1.jpg\n",
      "http://dmimg.5054399.com/allimg/140521/6_140521114855_1.jpg\n",
      "http://dmimg.5054399.com/allimg/140519/6_140519120300_1.jpg\n",
      "http://dmimg.5054399.com/allimg/140515/32_140515100314_1.jpg\n",
      "http://dmimg.5054399.com/allimg/140514/32_140514103808_1.jpg\n",
      "http://dmimg.5054399.com/allimg/140512/32_140512100452_1.jpg\n",
      "http://dmimg.5054399.com/allimg/140508/32_140508092902_1.jpg\n",
      "http://dmimg.5054399.com/allimg/xiaduo/121.jpg\n",
      "http://dmimg.5054399.com/allimg/xiaduo/122.jpg\n",
      "http://dmimg.5054399.com/allimg/xiaduo/123.jpg\n",
      "http://dmimg.5054399.com/allimg/170415/6_170415112850_1.jpg\n",
      "http://dmimg.5054399.com/allimg/xiaduo/126.jpg\n",
      "http://dmimg.5054399.com/allimg/xiaduo/124.jpg\n",
      "http://dmimg.5054399.com/allimg/170613/42_170613104122_3.jpg\n",
      "http://dmimg.5054399.com/allimg/160217/6_160217142248_3.jpg\n",
      "http://dmimg.5054399.com/allimg/160127/6_160127110842_2.jpg\n",
      "http://dmimg.5054399.com/allimg/160126/6_160126100905_3.jpg\n",
      "http://dmimg.5054399.com/allimg/151028/6_151028142939_2.jpg\n",
      "http://www.4399dmw.com/haizeiwang/tupian/list-273-8.html\n",
      "http://dmimg.5054399.com/allimg/140607/32_140607105859_1.jpg\n",
      "http://dmimg.5054399.com/allimg/140606/32_140606112345_1.jpg\n",
      "http://dmimg.5054399.com/allimg/140604/6_140604171337_2.jpg\n",
      "http://dmimg.5054399.com/allimg/140603/6_140603102157_1.jpg\n",
      "http://dmimg.5054399.com/allimg/140603/32_140603103002_1.jpg\n",
      "http://dmimg.5054399.com/allimg/140529/32_140529183118_1.jpg\n",
      "http://dmimg.5054399.com/allimg/140529/32_140529175157_1.jpg\n",
      "http://dmimg.5054399.com/allimg/140529/32_140529170933_1.jpg\n",
      "http://dmimg.5054399.com/allimg/140529/32_140529144901_1.jpg\n",
      "http://dmimg.5054399.com/allimg/140529/32_140529102408_1.jpg\n",
      "http://dmimg.5054399.com/allimg/140527/32_140527100306_1.jpg\n",
      "http://dmimg.5054399.com/allimg/140524/6_140524151152_1.jpg\n",
      "http://dmimg.5054399.com/allimg/140521/6_140521114855_1.jpg\n",
      "http://dmimg.5054399.com/allimg/140519/6_140519120300_1.jpg\n",
      "http://dmimg.5054399.com/allimg/140515/32_140515100314_1.jpg\n",
      "http://dmimg.5054399.com/allimg/140514/32_140514103808_1.jpg\n",
      "http://dmimg.5054399.com/allimg/140512/32_140512100452_1.jpg\n",
      "http://dmimg.5054399.com/allimg/140508/32_140508092902_1.jpg\n",
      "http://dmimg.5054399.com/allimg/xiaduo/121.jpg\n",
      "http://dmimg.5054399.com/allimg/xiaduo/122.jpg\n",
      "http://dmimg.5054399.com/allimg/xiaduo/123.jpg\n",
      "http://dmimg.5054399.com/allimg/170415/6_170415112850_1.jpg\n",
      "http://dmimg.5054399.com/allimg/xiaduo/126.jpg\n",
      "http://dmimg.5054399.com/allimg/xiaduo/124.jpg\n",
      "http://dmimg.5054399.com/allimg/170613/42_170613104122_3.jpg\n",
      "http://dmimg.5054399.com/allimg/160217/6_160217142248_3.jpg\n",
      "http://dmimg.5054399.com/allimg/160127/6_160127110842_2.jpg\n",
      "http://dmimg.5054399.com/allimg/160126/6_160126100905_3.jpg\n",
      "http://dmimg.5054399.com/allimg/151028/6_151028142939_2.jpg\n",
      "http://www.4399dmw.com/haizeiwang/tupian/list-273-8.html\n",
      "http://dmimg.5054399.com/allimg/140607/32_140607105859_1.jpg\n",
      "http://dmimg.5054399.com/allimg/140606/32_140606112345_1.jpg\n",
      "http://dmimg.5054399.com/allimg/140604/6_140604171337_2.jpg\n",
      "http://dmimg.5054399.com/allimg/140603/6_140603102157_1.jpg\n",
      "http://dmimg.5054399.com/allimg/140603/32_140603103002_1.jpg\n",
      "http://dmimg.5054399.com/allimg/140529/32_140529183118_1.jpg\n",
      "http://dmimg.5054399.com/allimg/140529/32_140529175157_1.jpg\n",
      "http://dmimg.5054399.com/allimg/140529/32_140529170933_1.jpg\n",
      "http://dmimg.5054399.com/allimg/140529/32_140529144901_1.jpg\n",
      "http://dmimg.5054399.com/allimg/140529/32_140529102408_1.jpg\n",
      "http://dmimg.5054399.com/allimg/140527/32_140527100306_1.jpg\n",
      "http://dmimg.5054399.com/allimg/140524/6_140524151152_1.jpg\n",
      "http://dmimg.5054399.com/allimg/140521/6_140521114855_1.jpg\n",
      "http://dmimg.5054399.com/allimg/140519/6_140519120300_1.jpg\n",
      "http://dmimg.5054399.com/allimg/140515/32_140515100314_1.jpg\n",
      "http://dmimg.5054399.com/allimg/140514/32_140514103808_1.jpg\n",
      "http://dmimg.5054399.com/allimg/140512/32_140512100452_1.jpg\n",
      "http://dmimg.5054399.com/allimg/140508/32_140508092902_1.jpg\n",
      "http://dmimg.5054399.com/allimg/xiaduo/121.jpg\n",
      "http://dmimg.5054399.com/allimg/xiaduo/122.jpg\n",
      "http://dmimg.5054399.com/allimg/xiaduo/123.jpg\n",
      "http://dmimg.5054399.com/allimg/170415/6_170415112850_1.jpg\n",
      "http://dmimg.5054399.com/allimg/xiaduo/126.jpg\n",
      "http://dmimg.5054399.com/allimg/xiaduo/124.jpg\n",
      "http://dmimg.5054399.com/allimg/170613/42_170613104122_3.jpg\n",
      "http://dmimg.5054399.com/allimg/160217/6_160217142248_3.jpg\n",
      "http://dmimg.5054399.com/allimg/160127/6_160127110842_2.jpg\n",
      "http://dmimg.5054399.com/allimg/160126/6_160126100905_3.jpg\n",
      "http://dmimg.5054399.com/allimg/151028/6_151028142939_2.jpg\n",
      "http://www.4399dmw.com/haizeiwang/tupian/list-273-8.html\n",
      "http://dmimg.5054399.com/allimg/140607/32_140607105859_1.jpg\n",
      "http://dmimg.5054399.com/allimg/140606/32_140606112345_1.jpg\n",
      "http://dmimg.5054399.com/allimg/140604/6_140604171337_2.jpg\n",
      "http://dmimg.5054399.com/allimg/140603/6_140603102157_1.jpg\n",
      "http://dmimg.5054399.com/allimg/140603/32_140603103002_1.jpg\n",
      "http://dmimg.5054399.com/allimg/140529/32_140529183118_1.jpg\n",
      "http://dmimg.5054399.com/allimg/140529/32_140529175157_1.jpg\n",
      "http://dmimg.5054399.com/allimg/140529/32_140529170933_1.jpg\n",
      "http://dmimg.5054399.com/allimg/140529/32_140529144901_1.jpg\n",
      "http://dmimg.5054399.com/allimg/140529/32_140529102408_1.jpg\n",
      "http://dmimg.5054399.com/allimg/140527/32_140527100306_1.jpg\n",
      "http://dmimg.5054399.com/allimg/140524/6_140524151152_1.jpg\n",
      "http://dmimg.5054399.com/allimg/140521/6_140521114855_1.jpg\n",
      "http://dmimg.5054399.com/allimg/140519/6_140519120300_1.jpg\n",
      "http://dmimg.5054399.com/allimg/140515/32_140515100314_1.jpg\n",
      "http://dmimg.5054399.com/allimg/140514/32_140514103808_1.jpg\n",
      "http://dmimg.5054399.com/allimg/140512/32_140512100452_1.jpg\n",
      "http://dmimg.5054399.com/allimg/140508/32_140508092902_1.jpg\n",
      "http://dmimg.5054399.com/allimg/xiaduo/121.jpg\n",
      "http://dmimg.5054399.com/allimg/xiaduo/122.jpg\n",
      "http://dmimg.5054399.com/allimg/xiaduo/123.jpg\n",
      "http://dmimg.5054399.com/allimg/170415/6_170415112850_1.jpg\n",
      "http://dmimg.5054399.com/allimg/xiaduo/126.jpg\n",
      "http://dmimg.5054399.com/allimg/xiaduo/124.jpg\n",
      "http://dmimg.5054399.com/allimg/170613/42_170613104122_3.jpg\n",
      "http://dmimg.5054399.com/allimg/160217/6_160217142248_3.jpg\n",
      "http://dmimg.5054399.com/allimg/160127/6_160127110842_2.jpg\n",
      "http://dmimg.5054399.com/allimg/160126/6_160126100905_3.jpg\n",
      "http://dmimg.5054399.com/allimg/151028/6_151028142939_2.jpg\n",
      "http://www.4399dmw.com/haizeiwang/tupian/list-273-8.html\n",
      "http://dmimg.5054399.com/allimg/140607/32_140607105859_1.jpg\n",
      "http://dmimg.5054399.com/allimg/140606/32_140606112345_1.jpg\n",
      "http://dmimg.5054399.com/allimg/140604/6_140604171337_2.jpg\n",
      "http://dmimg.5054399.com/allimg/140603/6_140603102157_1.jpg\n",
      "http://dmimg.5054399.com/allimg/140603/32_140603103002_1.jpg\n",
      "http://dmimg.5054399.com/allimg/140529/32_140529183118_1.jpg\n",
      "http://dmimg.5054399.com/allimg/140529/32_140529175157_1.jpg\n",
      "http://dmimg.5054399.com/allimg/140529/32_140529170933_1.jpg\n",
      "http://dmimg.5054399.com/allimg/140529/32_140529144901_1.jpg\n",
      "http://dmimg.5054399.com/allimg/140529/32_140529102408_1.jpg\n",
      "http://dmimg.5054399.com/allimg/140527/32_140527100306_1.jpg\n",
      "http://dmimg.5054399.com/allimg/140524/6_140524151152_1.jpg\n",
      "http://dmimg.5054399.com/allimg/140521/6_140521114855_1.jpg\n",
      "http://dmimg.5054399.com/allimg/140519/6_140519120300_1.jpg\n",
      "http://dmimg.5054399.com/allimg/140515/32_140515100314_1.jpg\n",
      "http://dmimg.5054399.com/allimg/140514/32_140514103808_1.jpg\n",
      "http://dmimg.5054399.com/allimg/140512/32_140512100452_1.jpg\n",
      "http://dmimg.5054399.com/allimg/140508/32_140508092902_1.jpg\n",
      "http://dmimg.5054399.com/allimg/xiaduo/121.jpg\n",
      "http://dmimg.5054399.com/allimg/xiaduo/122.jpg\n",
      "http://dmimg.5054399.com/allimg/xiaduo/123.jpg\n",
      "http://dmimg.5054399.com/allimg/170415/6_170415112850_1.jpg\n",
      "http://dmimg.5054399.com/allimg/xiaduo/126.jpg\n",
      "http://dmimg.5054399.com/allimg/xiaduo/124.jpg\n",
      "http://dmimg.5054399.com/allimg/170613/42_170613104122_3.jpg\n",
      "http://dmimg.5054399.com/allimg/160217/6_160217142248_3.jpg\n",
      "http://dmimg.5054399.com/allimg/160127/6_160127110842_2.jpg\n",
      "http://dmimg.5054399.com/allimg/160126/6_160126100905_3.jpg\n",
      "http://dmimg.5054399.com/allimg/151028/6_151028142939_2.jpg\n",
      "http://www.4399dmw.com/haizeiwang/tupian/list-273-8.html\n"
     ]
    },
    {
     "name": "stdout",
     "output_type": "stream",
     "text": [
      "http://dmimg.5054399.com/allimg/140607/32_140607105859_1.jpg\n",
      "http://dmimg.5054399.com/allimg/140606/32_140606112345_1.jpg\n",
      "http://dmimg.5054399.com/allimg/140604/6_140604171337_2.jpg\n",
      "http://dmimg.5054399.com/allimg/140603/6_140603102157_1.jpg\n",
      "http://dmimg.5054399.com/allimg/140603/32_140603103002_1.jpg\n",
      "http://dmimg.5054399.com/allimg/140529/32_140529183118_1.jpg\n",
      "http://dmimg.5054399.com/allimg/140529/32_140529175157_1.jpg\n",
      "http://dmimg.5054399.com/allimg/140529/32_140529170933_1.jpg\n",
      "http://dmimg.5054399.com/allimg/140529/32_140529144901_1.jpg\n",
      "http://dmimg.5054399.com/allimg/140529/32_140529102408_1.jpg\n",
      "http://dmimg.5054399.com/allimg/140527/32_140527100306_1.jpg\n",
      "http://dmimg.5054399.com/allimg/140524/6_140524151152_1.jpg\n",
      "http://dmimg.5054399.com/allimg/140521/6_140521114855_1.jpg\n",
      "http://dmimg.5054399.com/allimg/140519/6_140519120300_1.jpg\n",
      "http://dmimg.5054399.com/allimg/140515/32_140515100314_1.jpg\n",
      "http://dmimg.5054399.com/allimg/140514/32_140514103808_1.jpg\n",
      "http://dmimg.5054399.com/allimg/140512/32_140512100452_1.jpg\n",
      "http://dmimg.5054399.com/allimg/140508/32_140508092902_1.jpg\n",
      "http://dmimg.5054399.com/allimg/xiaduo/121.jpg\n",
      "http://dmimg.5054399.com/allimg/xiaduo/122.jpg\n",
      "http://dmimg.5054399.com/allimg/xiaduo/123.jpg\n",
      "http://dmimg.5054399.com/allimg/170415/6_170415112850_1.jpg\n",
      "http://dmimg.5054399.com/allimg/xiaduo/126.jpg\n",
      "http://dmimg.5054399.com/allimg/xiaduo/124.jpg\n",
      "http://dmimg.5054399.com/allimg/170613/42_170613104122_3.jpg\n",
      "http://dmimg.5054399.com/allimg/160217/6_160217142248_3.jpg\n",
      "http://dmimg.5054399.com/allimg/160127/6_160127110842_2.jpg\n",
      "http://dmimg.5054399.com/allimg/160126/6_160126100905_3.jpg\n",
      "http://dmimg.5054399.com/allimg/151028/6_151028142939_2.jpg\n"
     ]
    }
   ],
   "source": [
    "import requests\n",
    "ur1='http://www.4399dmw.com/haizeiwang/tupian/list-273-'+str(i)+'.html'\n",
    "for i in range(1,8):\n",
    "    if i==1:\n",
    "        print('http://www.4399dmw.com/haizeiwang/tupian/list')\n",
    "    else:\n",
    "        print(ur1)\n",
    "        HTML=requests.get(ur1).text\n",
    "        list_=HTML.split('\\n')\n",
    "        for line in list_:\n",
    "            if '.jpg'in line:\n",
    "                line2=line.split('\"')\n",
    "        #print(line2)\n",
    "                for linee in line2:\n",
    "                       if '.jpg' in linee:\n",
    "                            print(linee)  "
   ]
  },
  {
   "cell_type": "code",
   "execution_count": 23,
   "metadata": {},
   "outputs": [
    {
     "name": "stdout",
     "output_type": "stream",
     "text": [
      "<title>海贼王图片-海贼王图片大全-海贼王专题-4399动漫网</title>\n",
      "<meta name=\"keywords\" content=\"海贼王图片,海贼王壁纸,海贼王图片大全\" />\n",
      "<meta name=\"description\" content=\"4399海贼王专题为您提供海贼王图片大全，拥有路飞、索隆、山治、娜美、罗宾、女帝等海量高清海贼王壁纸、同人图。更多人气海贼王角色图片等您一睹为快。\" />\n",
      "<div class=\"head\"> <a href=\"javascript:void(0);\" title=\"4399海贼王动漫专区\" onclick=\"addfav(special_title,special_url);return false;\" class=\"logo\"></a> </div>\n",
      "<li ><a target=\"_self\" href=\"/haizeiwang/\" class=\"a1\">海贼王</a></li>\n",
      "<li><a href=\"http://www.4399dmw.com/haizeiwang/manhua/274923.html\">海贼王826话 山治家族姐弟登场</a></li>\n",
      "<li><a href=\"http://www.4399dmw.com/haizeiwang/shipin/271774.html\">海贼王燃烧之血超震撼游戏宣传片</a></li>\n",
      "<li><a href=\"http://www.4399dmw.com/haizeiwang/tupian/270215.html\">海贼王第80卷SBS新鲜内容大放送！</a></li>\n",
      "<li><a href=\"http://www.4399dmw.com/haizeiwang/donghua/270363.html\">海贼王730集  蔓雪莉的奇迹之泪</a></li>\n",
      "<li><a href=\"http://www.4399dmw.com/haizeiwang/juqing/262935.html\">50条关于海贼王的小秘密 你都知道哪一些</a></li>\n",
      "<li><a href=\"http://www.4399dmw.com/haizeiwang/tupian/260698.html\">海贼王2016年动画版年历</a></li>\n",
      "<li><a href=\"http://www.4399dmw.com/haizeiwang/tupian/260371.html\">海贼王2016年官方月历欣赏</a></li>\n",
      "<li><a href=\"http://weibo.com/xiaduophoto\">关注夏多老师微博  实时交流海贼王之道！</a></li>\n",
      "<li>4399海贼王官方群 群号：183253772</li>\n",
      "<li><a href=\"http://www.4399dmw.com/tuku/269004.html\">海贼王burning blood参战角色图赏</a></li>\n",
      "<li>4399海贼王官方超级群 QQ群号：76975076</li>\n",
      "<div class=\"dm_crumbs g_crumbs\"> 当前位置：<a href='/' target='_self'>4399动漫网</a><span class='s_g5'>&gt;</span><a href='/haizeiwang/' target='_self'>海贼王</a><span class='s_g5'>&gt;</span><a href='/haizeiwang/tupian/' target='_self'>海贼王图片</a> </div>\n",
      "<li> <a title=\"海贼王80卷单行本SBS\" href=\"/haizeiwang/tupian/270215.html\" class=\"img\"> <img src=\"http://dmimg.5054399.com/allimg/160217/6_160217142248_2.jpg\" alt=\"海贼王80卷单行本SBS\" /> </a> <a href=\"/haizeiwang/tupian/270215.html\" class=\"tit\">海贼王80卷单行本SBS</a> </li>\n",
      "<li> <a title=\"海贼王Burning Blood游戏参战角色\" href=\"http://www.4399dmw.com/tuku/269004.html\" class=\"img\"> <img src=\"http://dmimg.5054399.com/allimg/160126/6_160126100905_2.jpg\" alt=\"海贼王Burning Blood游戏参战角色\" /> </a> <a href=\"http://www.4399dmw.com/tuku/269004.html\" class=\"tit\">海贼王Burning Blood游戏参战角色</a> </li>\n",
      "<li> <a title=\"海贼王万圣节ZOMBIE主题磁章\" href=\"/haizeiwang/tupian/261738.html\" class=\"img\"> <img src=\"http://dmimg.5054399.com/allimg/151028/6_151028142939_1.jpg\" alt=\"海贼王万圣节ZOMBIE主题磁章\" /> </a> <a href=\"/haizeiwang/tupian/261738.html\" class=\"tit\">海贼王万圣节ZOMBIE主题磁章</a> </li>\n",
      "<li> <a title=\"海贼王79卷SBS及角色生日大全\" href=\"/haizeiwang/tupian/261691.html\" class=\"img\"> <img src=\"http://dmimg.5054399.com/allimg/151027/6_151027140205_1.jpg\" alt=\"海贼王79卷SBS及角色生日大全\" /> </a> <a href=\"/haizeiwang/tupian/261691.html\" class=\"tit\">海贼王79卷SBS及角色生日大全</a> </li>\n",
      "<li> <a title=\"海贼王2016年动画版年历\" href=\"/haizeiwang/tupian/260698.html\" class=\"img\"> <img src=\"http://dmimg.5054399.com/allimg/151006/6_151006204107_1.jpg\" alt=\"海贼王2016年动画版年历\" /> </a> <a href=\"/haizeiwang/tupian/260698.html\" class=\"tit\">海贼王2016年动画版年历</a> </li>\n",
      "<li> <a title=\"海贼王2016年官方月历\" href=\"/haizeiwang/tupian/260371.html\" class=\"img\"> <img src=\"http://dmimg.5054399.com/allimg/150927/6_150927153510_1.jpg\" alt=\"海贼王2016年官方月历\" /> </a> <a href=\"/haizeiwang/tupian/260371.html\" class=\"tit\">海贼王2016年官方月历</a> </li>\n",
      "<li> <a title=\"海贼王柯拉松和罗同人图\" href=\"/haizeiwang/tupian/258635.html\" class=\"img\"> <img src=\"http://dmimg.5054399.com/allimg/150821/6_150821105253_2.jpg\" alt=\"海贼王柯拉松和罗同人图\" /> </a> <a href=\"/haizeiwang/tupian/258635.html\" class=\"tit\">海贼王柯拉松和罗同人图</a> </li>\n",
      "<li> <a title=\"海贼王78卷SBS\" href=\"/haizeiwang/tupian/257280.html\" class=\"img\"> <img src=\"http://dmimg.5054399.com/allimg/150727/6_150727114156_1.jpg\" alt=\"海贼王78卷SBS\" /> </a> <a href=\"/haizeiwang/tupian/257280.html\" class=\"tit\">海贼王78卷SBS</a> </li>\n",
      "<li> <a title=\"海贼王77卷SBS\" href=\"/haizeiwang/tupian/250388.html\" class=\"img\"> <img src=\"http://dmimg.5054399.com/allimg/150416/6_150416172603_1.jpg\" alt=\"海贼王77卷SBS\" /> </a> <a href=\"/haizeiwang/tupian/250388.html\" class=\"tit\">海贼王77卷SBS</a> </li>\n",
      "<li> <a title=\"海贼王柯拉松同人图\" href=\"/haizeiwang/tupian/250345.html\" class=\"img\"> <img src=\"http://dmimg.5054399.com/allimg/150415/6_150415170647_1.jpg\" alt=\"海贼王柯拉松同人图\" /> </a> <a href=\"/haizeiwang/tupian/250345.html\" class=\"tit\">海贼王柯拉松同人图</a> </li>\n",
      "<li> <a title=\"轻松熊版海贼王萌头像\" href=\"/haizeiwang/tupian/250281.html\" class=\"img\"> <img src=\"http://dmimg.5054399.com/allimg/150414/6_150414115634_1.jpg\" alt=\"轻松熊版海贼王萌头像\" /> </a> <a href=\"/haizeiwang/tupian/250281.html\" class=\"tit\">轻松熊版海贼王萌头像</a> </li>\n",
      "<li> <a title=\"海贼王寻宝之旅官方人物图鉴\" href=\"/haizeiwang/tupian/249779.html\" class=\"img\"> <img src=\"http://dmimg.5054399.com/allimg/150407/6_150407142509_2.jpg\" alt=\"海贼王寻宝之旅官方人物图鉴\" /> </a> <a href=\"/haizeiwang/tupian/249779.html\" class=\"tit\">海贼王寻宝之旅官方人物图鉴</a> </li>\n",
      "<li> <a href=\"http://www.4399.com/flash/140922.htm\"> <img name=\"lzimg_1\" lz_src=\"http://dmimg.5054399.com/allimg/xiaduo/122.jpg\" alt=\"妖尾VS海贼王0.7\">妖尾VS海贼王0.7 </a> </li>\n",
      "<li> <a href=\"http://www.4399.com/flash/87159.htm\"> <img name=\"lzimg_1\" lz_src=\"http://dmimg.5054399.com/allimg/xiaduo/123.jpg\" alt=\"海贼王异域冒险3\">海贼王异域冒险3 </a> </li>\n",
      "<li> <a href=\"http://www.4399.com/flash/118829.htm\"> <img name=\"lzimg_1\" lz_src=\"http://dmimg.5054399.com/allimg/xiaduo/126.jpg\" alt=\"海贼王终极对决1.6\">海贼王终极对决1.6 </a> </li>\n",
      "<li> <a href=\"http://www.4399.com/flash/39039.htm\"> <img name=\"lzimg_1\" lz_src=\"http://dmimg.5054399.com/allimg/xiaduo/124.jpg\" alt=\"海贼王叉鱼记\">海贼王叉鱼记 </a> </li>\n",
      "<a class=\"title\" href=\"/haizeiwang/zixunzatan/\"> <i class=\"icon\"></i> 海贼王热门资讯 </a>\n",
      "<h3 class=\"g_side_actitle\"><a href=\"/haizeiwang/zixunzatan/304508.html\">《海贼王》奇葩产物 那些奇奇</a></h3>\n",
      "<div class=\"g_imgtext\"> <a href=\"/haizeiwang/zixunzatan/304508.html\" class=\"img\" title=\"《海贼王》奇葩产物 那些奇奇\"> <img alt=\"《海贼王》奇葩产物 那些奇奇\" src=\"http://dmimg.5054399.com/allimg/170613/42_170613104122_3.jpg\" /> </a>\n",
      "<p class=\"text\">海贼王里的电话虫是一种伟大航道内的通讯工具，虽然是生物，但......</p>\n",
      "<li> <span class=\"time\">[05-31]</span> <a href=\"/haizeiwang/zixunzatan/302016.html\">盘点海贼王漫画中让人匪夷所</a> </li>\n",
      "<li> <span class=\"time\">[05-25]</span> <a href=\"/haizeiwang/zixunzatan/300598.html\">《海贼王》里最适合撩妹的岛</a> </li>\n",
      "<li> <span class=\"time\">[05-24]</span> <a href=\"/haizeiwang/zixunzatan/300368.html\">《海贼王》里十大最丑的角色</a> </li>\n",
      "<li> <span class=\"time\">[05-15]</span> <a href=\"/haizeiwang/zixunzatan/298482.html\">《海贼王》里最会占女生便宜</a> </li>\n",
      "<li> <span class=\"time\">[04-28]</span> <a href=\"/haizeiwang/zixunzatan/296224.html\">海贼王角色两年前后对比 变化</a> </li>\n",
      "<div class=\"g_dmbtns\"> <a href=\"/haizeiwang/manhua/\" class=\"mhbtn\"> <i></i> <b>海贼王漫画</b> </a> <a href=\"/haizeiwang/donghua/\" class=\"dhbtn\"> <i></i> <b>海贼王动画</b> </a> </div>\n",
      "<a href=\"/haizeiwang/tupian/\" class=\"title\"> <i class=\"icon\"></i> 海贼王图片 </a>\n",
      "<li> <a href=\"/haizeiwang/tupian/270215.html\"> <img src=\"http://dmimg.5054399.com/allimg/160217/6_160217142248_3.jpg\" alt=\"海贼王80卷单行本SBS\" />海贼王80卷单行本SBS</a> </li>\n",
      "<li> <a href=\"http://www.4399dmw.com/tuku/269004.html\"> <img src=\"http://dmimg.5054399.com/allimg/160126/6_160126100905_3.jpg\" alt=\"海贼王Burning Blood游戏参战角色\" />海贼王Burning Blood游戏参战角色</a> </li>\n",
      "<li> <a href=\"/haizeiwang/tupian/261738.html\"> <img src=\"http://dmimg.5054399.com/allimg/151028/6_151028142939_2.jpg\" alt=\"海贼王万圣节ZOMBIE主题磁章\" />海贼王万圣节ZOMBIE主题磁章</a> </li>\n",
      "<a class=\"title\" href=\"/haizeiwang/juqing/\"> <i class=\"icon\"></i> 海贼王分析 </a>\n",
      "<li> <span class=\"time\">[03-09]</span> <a href=\"http://weibo.com/ttarticle/p/show?id=2309403951190911130828\">夏多的海贼王分析 和大家再见</a> </li>\n",
      "<li> <span class=\"time\">[03-01]</span> <a href=\"/haizeiwang/juqing/270577.html\">海贼王817分析</a> </li>\n",
      "<li> <span class=\"time\">[02-17]</span> <a href=\"/haizeiwang/juqing/270230.html\">新人浅谈我对海贼王和黑胡子</a> </li>\n",
      "<li> <span class=\"time\">[02-16]</span> <a href=\"/haizeiwang/juqing/269976.html\">海贼王816分析</a> </li>\n",
      "<li> <span class=\"time\">[02-06]</span> <a href=\"/haizeiwang/juqing/269679.html\">海贼王815分析</a> </li>\n",
      "<li> <span class=\"time\">[01-30]</span> <a href=\"/haizeiwang/juqing/269246.html\">海贼王814分析</a> </li>\n",
      "<a href=\"http://www.4399dmw.com/donghua/\">动画片</a><a href=\"http://www.4399dmw.com/manhua/\">漫画网</a><a href=\"http://www.4399dmw.com/\">动漫网</a><a href=\"http://www.4399dmw.com/huoying/\">火影忍者</a><a href=\"http://www.4399dmw.com/qinshimingyue/\">秦时明月</a><a href=\"http://www.4399dmw.com/dh/kjysbj/\">铠甲勇士捕将</a><a href=\"http://www.4399dmw.com/haizeiwang/\">海贼王</a><a href=\"http://www.4399dmw.com/yaojingdeweiba/\">妖精的尾巴</a><a href=\"http://www.4399dmw.com/orz/23/\">搞笑动画推荐</a><a href=\"http://www.4399dmw.com/atm/\">奥特曼专区</a><a href=\"http://www.4399dmw.com/news/\">动漫速递</a><a href=\"http://www.4399dmw.com/dh/bbmd/\">百变马丁</a><a href=\"http://www.4399dmw.com/zixun/381175.html\">19年1月新番</a><a href=\"http://www.4399dmw.com/orz/20/\">动漫小主题汇总</a><a href=\"http://www.4399dmw.com/xcmmovie3/\">熊出没之熊心归来大电影</a><a href=\"http://www.4399dmw.com/dh/dlzs3/\">斗龙战士3龙印之战</a><a href=\"http://www.4399dmw.com/dh/seerdiliuji/\">赛尔号第六季</a><a href=\"http://www.4399dmw.com/qinshimingyue/jltx/\">秦时明月之君临天下</a><a href=\"http://www.4399dmw.com/dh/drlft/\">熊出没之冬日乐翻天</a><a href=\"http://www.4399dmw.com/dh/qjleyuan/\">奇积乐园</a><a href=\"http://www.4399dmw.com/dh/akmfsn/\">艾可魔法少女</a>          </dd>\n",
      "    var typename = '海贼王';\n",
      "    var special_title = '海贼王专题-海贼王动漫中文网-4399动漫网';\n"
     ]
    }
   ],
   "source": [
    "import requests\n",
    "ur1='http://www.4399dmw.com/haizeiwang/tupian/'\n",
    "HTML=requests.get(ur1).text\n",
    "list_=HTML.split('\\n')\n",
    "for i in list_:\n",
    "    #if '海贼王' in i:\n",
    "       # print(i)\n",
    "        if i.find('海贼王')!=-1:\n",
    "             print(i)\n"
   ]
  },
  {
   "cell_type": "code",
   "execution_count": null,
   "metadata": {},
   "outputs": [],
   "source": []
  },
  {
   "cell_type": "code",
   "execution_count": 21,
   "metadata": {},
   "outputs": [
    {
     "data": {
      "text/plain": [
       "99"
      ]
     },
     "execution_count": 21,
     "metadata": {},
     "output_type": "execute_result"
    }
   ],
   "source": [
    "HTML.count('海贼王')"
   ]
  },
  {
   "cell_type": "code",
   "execution_count": 27,
   "metadata": {},
   "outputs": [
    {
     "data": {
      "text/plain": [
       "['a', 'b', 'c']"
      ]
     },
     "execution_count": 27,
     "metadata": {},
     "output_type": "execute_result"
    }
   ],
   "source": [
    "a='a b c'\n",
    "a.split(' ')"
   ]
  },
  {
   "cell_type": "markdown",
   "metadata": {},
   "source": [
    "## 转换字符串\n",
    "![](../Photo/101.png)"
   ]
  },
  {
   "cell_type": "code",
   "execution_count": 29,
   "metadata": {},
   "outputs": [
    {
     "data": {
      "text/plain": [
       "'Joker'"
      ]
     },
     "execution_count": 29,
     "metadata": {},
     "output_type": "execute_result"
    }
   ],
   "source": [
    "a='joker'\n",
    "a.capitalize()"
   ]
  },
  {
   "cell_type": "code",
   "execution_count": 33,
   "metadata": {},
   "outputs": [
    {
     "data": {
      "text/plain": [
       "'kokerk'"
      ]
     },
     "execution_count": 33,
     "metadata": {},
     "output_type": "execute_result"
    }
   ],
   "source": [
    "a='jokerj'\n",
    "a.replace('j','k',-1)#-1全换"
   ]
  },
  {
   "cell_type": "markdown",
   "metadata": {},
   "source": [
    "## 删除字符串\n",
    "![](../Photo/146.png)"
   ]
  },
  {
   "cell_type": "code",
   "execution_count": 34,
   "metadata": {},
   "outputs": [
    {
     "data": {
      "text/plain": [
       "'dhwgdwu '"
      ]
     },
     "execution_count": 34,
     "metadata": {},
     "output_type": "execute_result"
    }
   ],
   "source": [
    "b=' dhwgdwu '\n",
    "b.lstrip()"
   ]
  },
  {
   "cell_type": "markdown",
   "metadata": {},
   "source": [
    "## 格式化字符串\n",
    "![](../Photo/103.png)"
   ]
  },
  {
   "cell_type": "markdown",
   "metadata": {},
   "source": [
    "## EP:\n",
    "- 1\n",
    "![](../Photo/104.png)\n",
    "- 2 \n",
    "    随机参数100个数字，将www.baidu.com/?page=进行拼接"
   ]
  },
  {
   "cell_type": "markdown",
   "metadata": {},
   "source": [
    "## Python高级使用方法 -- 字符串\n",
    "- 我们经常使用的方法实际上就是调用Python的运算重载\n",
    "![](../Photo/105.png)"
   ]
  },
  {
   "cell_type": "markdown",
   "metadata": {},
   "source": [
    "# Homework\n",
    "- 1\n",
    "![](../Photo/106.png)"
   ]
  },
  {
   "cell_type": "code",
   "execution_count": 1,
   "metadata": {},
   "outputs": [
    {
     "name": "stdout",
     "output_type": "stream",
     "text": [
      "请输入ddd-dd-dddd形式的安全码：123234567\n",
      "vaild ssn\n"
     ]
    }
   ],
   "source": [
    "a=input('请输入ddd-dd-dddd形式的安全码：')\n",
    "if a.isdigit():\n",
    "    print('vaild ssn')\n",
    "else:\n",
    "    print('invail ssn')\n",
    "    "
   ]
  },
  {
   "cell_type": "markdown",
   "metadata": {},
   "source": [
    "- 2\n",
    "![](../Photo/107.png)"
   ]
  },
  {
   "cell_type": "code",
   "execution_count": 3,
   "metadata": {},
   "outputs": [],
   "source": [
    "def jiance():\n",
    "    a=input('请输入字符串')\n",
    "    b=input('请输入字符串')\n",
    "    c=a.find(b)\n",
    "    return c\n",
    "    "
   ]
  },
  {
   "cell_type": "code",
   "execution_count": 4,
   "metadata": {},
   "outputs": [
    {
     "name": "stdout",
     "output_type": "stream",
     "text": [
      "请输入字符串wer\n",
      "请输入字符串ser\n"
     ]
    },
    {
     "data": {
      "text/plain": [
       "-1"
      ]
     },
     "execution_count": 4,
     "metadata": {},
     "output_type": "execute_result"
    }
   ],
   "source": [
    "jiance()"
   ]
  },
  {
   "cell_type": "markdown",
   "metadata": {},
   "source": [
    "- 3\n",
    "![](../Photo/108.png)"
   ]
  },
  {
   "cell_type": "code",
   "execution_count": 17,
   "metadata": {},
   "outputs": [],
   "source": [
    "def mima():\n",
    "    password=input('请用户输入一个密码：')\n",
    "    n=len(password)\n",
    "    for i in password:\n",
    "        a=i.isdigit()\n",
    "        if a>2:\n",
    "            print('继续')\n",
    "        elif i.islower():\n",
    "            print('继续')\n",
    "        elif i.isupper():\n",
    "            print('继续')\n",
    "        elif n>8:\n",
    "            print('vaild password')\n",
    "    else:\n",
    "        print('invaild password')\n",
    "            \n",
    "    \n",
    "        \n",
    "    \n",
    "    "
   ]
  },
  {
   "cell_type": "code",
   "execution_count": 18,
   "metadata": {},
   "outputs": [
    {
     "name": "stdout",
     "output_type": "stream",
     "text": [
      "请用户输入一个密码：desw1234\n",
      "继续\n",
      "继续\n",
      "继续\n",
      "继续\n",
      "invaild password\n"
     ]
    }
   ],
   "source": [
    "mima()"
   ]
  },
  {
   "cell_type": "markdown",
   "metadata": {},
   "source": [
    "- 4\n",
    "![](../Photo/109.png)"
   ]
  },
  {
   "cell_type": "code",
   "execution_count": 19,
   "metadata": {},
   "outputs": [],
   "source": [
    "def countletter():\n",
    "    a=input('请用户输入一个字符串：')\n",
    "    n=len(a)\n",
    "    return n"
   ]
  },
  {
   "cell_type": "code",
   "execution_count": 20,
   "metadata": {},
   "outputs": [
    {
     "name": "stdout",
     "output_type": "stream",
     "text": [
      "请用户输入一个字符串：sfgdjdjbsb\n"
     ]
    },
    {
     "data": {
      "text/plain": [
       "10"
      ]
     },
     "execution_count": 20,
     "metadata": {},
     "output_type": "execute_result"
    }
   ],
   "source": [
    "countletter()"
   ]
  },
  {
   "cell_type": "markdown",
   "metadata": {},
   "source": [
    "- 5\n",
    "![](../Photo/110.png)"
   ]
  },
  {
   "cell_type": "code",
   "execution_count": 48,
   "metadata": {},
   "outputs": [],
   "source": [
    "def getnumber():\n",
    "    haoma=input('输入一个电话号码:')\n",
    "    for i in haoma:\n",
    "        f=ord(i)\n",
    "        if 48<=f<=57:\n",
    "            c=i\n",
    "        elif 65<=f<=90:\n",
    "            a=f\n",
    "        elif 97<=f<=122:\n",
    "            b=f\n",
    "    return c,a,b\n",
    "    \n",
    "        \n",
    "        \n",
    "    "
   ]
  },
  {
   "cell_type": "code",
   "execution_count": 49,
   "metadata": {},
   "outputs": [
    {
     "name": "stdout",
     "output_type": "stream",
     "text": [
      "输入一个电话号码:123wer\n"
     ]
    },
    {
     "ename": "UnboundLocalError",
     "evalue": "local variable 'a' referenced before assignment",
     "output_type": "error",
     "traceback": [
      "\u001b[1;31m---------------------------------------------------------------------------\u001b[0m",
      "\u001b[1;31mUnboundLocalError\u001b[0m                         Traceback (most recent call last)",
      "\u001b[1;32m<ipython-input-49-d04840dbbcd5>\u001b[0m in \u001b[0;36m<module>\u001b[1;34m\u001b[0m\n\u001b[1;32m----> 1\u001b[1;33m \u001b[0mgetnumber\u001b[0m\u001b[1;33m(\u001b[0m\u001b[1;33m)\u001b[0m\u001b[1;33m\u001b[0m\u001b[1;33m\u001b[0m\u001b[0m\n\u001b[0m",
      "\u001b[1;32m<ipython-input-48-eb0e1dd28de3>\u001b[0m in \u001b[0;36mgetnumber\u001b[1;34m()\u001b[0m\n\u001b[0;32m      9\u001b[0m         \u001b[1;32melif\u001b[0m \u001b[1;36m97\u001b[0m\u001b[1;33m<=\u001b[0m\u001b[0mf\u001b[0m\u001b[1;33m<=\u001b[0m\u001b[1;36m122\u001b[0m\u001b[1;33m:\u001b[0m\u001b[1;33m\u001b[0m\u001b[1;33m\u001b[0m\u001b[0m\n\u001b[0;32m     10\u001b[0m             \u001b[0mb\u001b[0m\u001b[1;33m=\u001b[0m\u001b[0mf\u001b[0m\u001b[1;33m\u001b[0m\u001b[1;33m\u001b[0m\u001b[0m\n\u001b[1;32m---> 11\u001b[1;33m     \u001b[1;32mreturn\u001b[0m \u001b[0mc\u001b[0m\u001b[1;33m,\u001b[0m\u001b[0ma\u001b[0m\u001b[1;33m,\u001b[0m\u001b[0mb\u001b[0m\u001b[1;33m\u001b[0m\u001b[1;33m\u001b[0m\u001b[0m\n\u001b[0m\u001b[0;32m     12\u001b[0m \u001b[1;33m\u001b[0m\u001b[0m\n\u001b[0;32m     13\u001b[0m \u001b[1;33m\u001b[0m\u001b[0m\n",
      "\u001b[1;31mUnboundLocalError\u001b[0m: local variable 'a' referenced before assignment"
     ]
    }
   ],
   "source": [
    "getnumber()"
   ]
  },
  {
   "cell_type": "markdown",
   "metadata": {},
   "source": [
    "- 6\n",
    "![](../Photo/111.png)"
   ]
  },
  {
   "cell_type": "code",
   "execution_count": 51,
   "metadata": {},
   "outputs": [],
   "source": [
    "def reverse():\n",
    "    s=input('请用户输入一个字符串:')\n",
    "    b=s[::-1]\n",
    "    return b\n",
    "        "
   ]
  },
  {
   "cell_type": "code",
   "execution_count": 52,
   "metadata": {},
   "outputs": [
    {
     "name": "stdout",
     "output_type": "stream",
     "text": [
      "请用户输入一个字符串:werdx\n"
     ]
    },
    {
     "data": {
      "text/plain": [
       "'xdrew'"
      ]
     },
     "execution_count": 52,
     "metadata": {},
     "output_type": "execute_result"
    }
   ],
   "source": [
    "reverse()"
   ]
  },
  {
   "cell_type": "markdown",
   "metadata": {},
   "source": [
    "- 7\n",
    "![](../Photo/112.png)"
   ]
  },
  {
   "cell_type": "markdown",
   "metadata": {},
   "source": [
    "- 8\n",
    "![](../Photo/113.png)"
   ]
  },
  {
   "cell_type": "code",
   "execution_count": null,
   "metadata": {},
   "outputs": [],
   "source": [
    "def jianceisbn():\n",
    "    for i in range(1,14):\n",
    "        i+=1\n",
    "        if i<13:\n",
    "            break\n",
    "        else i==13:\n",
    "            a=\n",
    "            \n",
    "            "
   ]
  },
  {
   "cell_type": "markdown",
   "metadata": {},
   "source": [
    "- 9\n",
    "![](../Photo/114.png)"
   ]
  },
  {
   "cell_type": "code",
   "execution_count": 3,
   "metadata": {},
   "outputs": [],
   "source": [
    "class mji:\n",
    "    def __init__(self,num1,num2):\n",
    "        print('初始化')\n",
    "        self.num1=num1\n",
    "        self.num2=num2\n",
    "    def zhouchang(self):\n",
    "        return self.num1 * 2 + self.num2* 2\n",
    "    def mianji(self):\n",
    "        return self.num1*self.num2"
   ]
  },
  {
   "cell_type": "code",
   "execution_count": 6,
   "metadata": {},
   "outputs": [
    {
     "name": "stdout",
     "output_type": "stream",
     "text": [
      "初始化\n"
     ]
    }
   ],
   "source": [
    "yin=mji(6,6)"
   ]
  },
  {
   "cell_type": "code",
   "execution_count": 7,
   "metadata": {},
   "outputs": [
    {
     "data": {
      "text/plain": [
       "24"
      ]
     },
     "execution_count": 7,
     "metadata": {},
     "output_type": "execute_result"
    }
   ],
   "source": [
    "yin.zhouchang()"
   ]
  },
  {
   "cell_type": "code",
   "execution_count": 8,
   "metadata": {},
   "outputs": [
    {
     "data": {
      "text/plain": [
       "36"
      ]
     },
     "execution_count": 8,
     "metadata": {},
     "output_type": "execute_result"
    }
   ],
   "source": [
    "yin.mianji()"
   ]
  },
  {
   "cell_type": "code",
   "execution_count": null,
   "metadata": {},
   "outputs": [],
   "source": []
  }
 ],
 "metadata": {
  "kernelspec": {
   "display_name": "Python 3",
   "language": "python",
   "name": "python3"
  },
  "language_info": {
   "codemirror_mode": {
    "name": "ipython",
    "version": 3
   },
   "file_extension": ".py",
   "mimetype": "text/x-python",
   "name": "python",
   "nbconvert_exporter": "python",
   "pygments_lexer": "ipython3",
   "version": "3.7.3"
  }
 },
 "nbformat": 4,
 "nbformat_minor": 2
}
