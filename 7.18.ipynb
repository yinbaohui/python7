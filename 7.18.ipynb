{
 "cells": [
  {
   "cell_type": "markdown",
   "metadata": {},
   "source": [
    "# 选择\n",
    "## 布尔类型、数值和表达式\n",
    "![](../Photo/33.png)\n",
    "- 注意：比较运算符的相等是两个等号，一个等到代表赋值\n",
    "- 在Python中可以用整型0来代表False，其他数字来代表True\n",
    "- 后面还会讲到 is 在判断语句中的用发"
   ]
  },
  {
   "cell_type": "code",
   "execution_count": 1,
   "metadata": {},
   "outputs": [
    {
     "data": {
      "text/plain": [
       "True"
      ]
     },
     "execution_count": 1,
     "metadata": {},
     "output_type": "execute_result"
    }
   ],
   "source": [
    "1<=2<=3"
   ]
  },
  {
   "cell_type": "code",
   "execution_count": 2,
   "metadata": {},
   "outputs": [
    {
     "data": {
      "text/plain": [
       "True"
      ]
     },
     "execution_count": 2,
     "metadata": {},
     "output_type": "execute_result"
    }
   ],
   "source": [
    "bool(2)"
   ]
  },
  {
   "cell_type": "code",
   "execution_count": 3,
   "metadata": {},
   "outputs": [
    {
     "name": "stdout",
     "output_type": "stream",
     "text": [
      "140714664301376 140714664301376\n"
     ]
    }
   ],
   "source": [
    "a=id(1)\n",
    "b=id(1)\n",
    "#因为a和b并不是一个对象\n",
    "print(a,b)#id为地址"
   ]
  },
  {
   "cell_type": "code",
   "execution_count": 6,
   "metadata": {},
   "outputs": [
    {
     "data": {
      "text/plain": [
       "True"
      ]
     },
     "execution_count": 6,
     "metadata": {},
     "output_type": "execute_result"
    }
   ],
   "source": [
    "a= id(1)\n",
    "b=a\n",
    "a is b"
   ]
  },
  {
   "cell_type": "code",
   "execution_count": null,
   "metadata": {},
   "outputs": [],
   "source": []
  },
  {
   "cell_type": "code",
   "execution_count": 4,
   "metadata": {},
   "outputs": [
    {
     "data": {
      "text/plain": [
       "False"
      ]
     },
     "execution_count": 4,
     "metadata": {},
     "output_type": "execute_result"
    }
   ],
   "source": [
    "a is b"
   ]
  },
  {
   "cell_type": "code",
   "execution_count": null,
   "metadata": {},
   "outputs": [],
   "source": []
  },
  {
   "cell_type": "markdown",
   "metadata": {},
   "source": [
    "## 字符串的比较使用ASCII值"
   ]
  },
  {
   "cell_type": "code",
   "execution_count": 10,
   "metadata": {},
   "outputs": [
    {
     "data": {
      "text/plain": [
       "True"
      ]
     },
     "execution_count": 10,
     "metadata": {},
     "output_type": "execute_result"
    }
   ],
   "source": [
    "a='joker'\n",
    "b='jokar'\n",
    "a>b"
   ]
  },
  {
   "cell_type": "markdown",
   "metadata": {},
   "source": [
    "## Markdown \n",
    "- https://github.com/younghz/Markdown"
   ]
  },
  {
   "cell_type": "markdown",
   "metadata": {},
   "source": [
    "机动部队"
   ]
  },
  {
   "cell_type": "code",
   "execution_count": null,
   "metadata": {},
   "outputs": [],
   "source": []
  },
  {
   "cell_type": "markdown",
   "metadata": {},
   "source": [
    "## EP:\n",
    "- <img src=\"../Photo/34.png\"></img>\n",
    "- 输入一个数字，判断其实奇数还是偶数"
   ]
  },
  {
   "cell_type": "code",
   "execution_count": 3,
   "metadata": {},
   "outputs": [
    {
     "name": "stdout",
     "output_type": "stream",
     "text": [
      "1\n"
     ]
    }
   ],
   "source": [
    "i=int(True)\n",
    "print(i)"
   ]
  },
  {
   "cell_type": "markdown",
   "metadata": {},
   "source": [
    "## 产生随机数字\n",
    "- 函数random.randint(a,b) 可以用来产生一个a和b之间且包括a和b的随机整数"
   ]
  },
  {
   "cell_type": "markdown",
   "metadata": {},
   "source": [
    "产生一个随机数，你去输入，如果你输入的数大于随机数，那么就告诉你太大了，反之，太小了，\n",
    "然后你一直输入，知道它满意为止"
   ]
  },
  {
   "cell_type": "code",
   "execution_count": 1,
   "metadata": {},
   "outputs": [],
   "source": [
    "import random\n",
    "a=random.randint(0,10)"
   ]
  },
  {
   "cell_type": "code",
   "execution_count": 2,
   "metadata": {},
   "outputs": [
    {
     "name": "stdout",
     "output_type": "stream",
     "text": [
      "请输入一个数:1\n",
      "太小了\n"
     ]
    }
   ],
   "source": [
    "for i in range(5):\n",
    "    b=eval(input('请输入一个数:'))\n",
    "    if b>a:\n",
    "         print('太大了')\n",
    "    if b<a:\n",
    "         print('太小了')\n",
    "    if b==a:\n",
    "        print('正好')\n",
    "    break\n",
    " \n",
    " \n",
    "    "
   ]
  },
  {
   "cell_type": "markdown",
   "metadata": {},
   "source": [
    "##  其他random方法\n",
    "- random.random 返回0.0到1.0之间前闭后开区间的随机浮点\n",
    "- random.randrange(a,b) 前闭后开"
   ]
  },
  {
   "cell_type": "code",
   "execution_count": null,
   "metadata": {},
   "outputs": [],
   "source": []
  },
  {
   "cell_type": "markdown",
   "metadata": {},
   "source": [
    "## EP：\n",
    "- 产生两个随机整数number1和number2，然后显示给用户，使用户输入数字的和，并判定其是否正确\n",
    "- 进阶:写一个随机序号点名程序"
   ]
  },
  {
   "cell_type": "code",
   "execution_count": 13,
   "metadata": {},
   "outputs": [
    {
     "name": "stdout",
     "output_type": "stream",
     "text": [
      "请输入数字的和:23\n",
      "错误\n"
     ]
    }
   ],
   "source": [
    "num1=eval(input('请输入数字的和:'))\n",
    "a=random.randrange(0,1)\n",
    "b=random.randrange(0,1)\n",
    "if num1==(a+b):\n",
    "    print('正确')\n",
    "else:\n",
    "    print('错误')\n",
    "\n"
   ]
  },
  {
   "cell_type": "code",
   "execution_count": null,
   "metadata": {},
   "outputs": [],
   "source": []
  },
  {
   "cell_type": "markdown",
   "metadata": {},
   "source": [
    "## if语句\n",
    "- 如果条件正确就执行一个单向if语句，亦即当条件为真的时候才执行if内部的语句\n",
    "- Python有很多选择语句:\n",
    "> - 单向if \n",
    "  - 双向if-else\n",
    "  - 嵌套if\n",
    "  - 多向if-elif-else\n",
    "  \n",
    "- 注意：当语句含有子语句的时候，那么一定至少要有一个缩进，也就是说如果有儿子存在，那么一定要缩进\n",
    "- 切记不可tab键和space混用，单用tab 或者 space\n",
    "- 当你输出的结果是无论if是否为真时都需要显示时，语句应该与if对齐"
   ]
  },
  {
   "cell_type": "code",
   "execution_count": 5,
   "metadata": {},
   "outputs": [
    {
     "name": "stdout",
     "output_type": "stream",
     "text": [
      "请输入年龄:25\n",
      "帅不帅1\n",
      "是否有老婆1\n",
      "下一题\n",
      "下一题\n",
      "马上结婚\n"
     ]
    }
   ],
   "source": [
    "age=eval(input('请输入年龄:'))\n",
    "hansome=eval(input('帅不帅'))\n",
    "laopo=eval(input('是否有老婆'))\n",
    "if age>30:\n",
    "        print('拜拜')\n",
    "if age<=30:\n",
    "        print('下一题')\n",
    "        if hansome==0:\n",
    "            print('考虑一下')\n",
    "        if hansome==1:\n",
    "            print('下一题')\n",
    "            if laopo==0:\n",
    "                print('回家的诱惑')\n",
    "            if laopo==1:\n",
    "                print('马上结婚')\n",
    "        \n",
    "            \n",
    "    \n",
    "    \n",
    "\n",
    "\n"
   ]
  },
  {
   "cell_type": "markdown",
   "metadata": {},
   "source": [
    "## EP：\n",
    "- 用户输入一个数字，判断其实奇数还是偶数\n",
    "- 进阶：可以查看下4.5实例研究猜生日"
   ]
  },
  {
   "cell_type": "code",
   "execution_count": 6,
   "metadata": {},
   "outputs": [
    {
     "name": "stdout",
     "output_type": "stream",
     "text": [
      "请输入一个数字:3\n",
      "为奇数\n"
     ]
    }
   ],
   "source": [
    "num1=eval(input('请输入一个数字:'))\n",
    "if num1%2==0:\n",
    "    print('为偶数')\n",
    "else:\n",
    "    print('为奇数')11"
   ]
  },
  {
   "cell_type": "code",
   "execution_count": null,
   "metadata": {},
   "outputs": [],
   "source": []
  },
  {
   "cell_type": "markdown",
   "metadata": {},
   "source": [
    "## 双向if-else 语句\n",
    "- 如果条件为真，那么走if内部语句，否则走else内部语句"
   ]
  },
  {
   "cell_type": "markdown",
   "metadata": {},
   "source": [
    "## EP：\n",
    "- 产生两个随机整数number1和number2，然后显示给用户，使用户输入数字，并判定其是否正确,如果正确打印“you‘re correct”，否则打印正确错误"
   ]
  },
  {
   "cell_type": "markdown",
   "metadata": {},
   "source": [
    "## 嵌套if 和多向if-elif-else\n",
    "![](../Photo/35.png)"
   ]
  },
  {
   "cell_type": "code",
   "execution_count": 8,
   "metadata": {},
   "outputs": [
    {
     "name": "stdout",
     "output_type": "stream",
     "text": [
      "请输入年份:1998\n",
      "虎\n"
     ]
    }
   ],
   "source": [
    "year=eval(input('请输入年份:'))\n",
    "if year%12==0:\n",
    "    print('猴')\n",
    "elif year%12==1:\n",
    "    print('鸡')\n",
    "elif year%12==2:\n",
    "    print('狗')\n",
    "elif year%12==3:\n",
    "    print('猪')\n",
    "elif year%12==4:\n",
    "    print('鼠')\n",
    "elif year%12==5:\n",
    "    print('牛')\n",
    "elif year%12==6:\n",
    "    print('虎')\n",
    "elif year%12==7:\n",
    "    print('兔')\n",
    "elif year%12==8:\n",
    "    print('龙')\n",
    "elif year%12==9:\n",
    "    print('蛇')\n",
    "elif year512==10:\n",
    "    print('马')\n",
    "else:\n",
    "    year%12==11\n",
    "    print('羊')\n",
    "   \n",
    "    \n",
    "\n",
    "\n",
    "    "
   ]
  },
  {
   "cell_type": "markdown",
   "metadata": {},
   "source": [
    "## EP：\n",
    "- 提示用户输入一个年份，然后显示表示这一年的动物\n",
    "![](../Photo/36.png)\n",
    "- 计算身体质量指数的程序\n",
    "- BMI = 以千克为单位的体重除以以米为单位的身高的平方\n",
    "![](../Photo/37.png)"
   ]
  },
  {
   "cell_type": "code",
   "execution_count": 1,
   "metadata": {},
   "outputs": [
    {
     "name": "stdout",
     "output_type": "stream",
     "text": [
      "请输入身高:1.72\n",
      "请输入体重60\n",
      "标准\n"
     ]
    }
   ],
   "source": [
    "shengao=eval(input('请输入身高:'))\n",
    "tizhong=eval(input('请输入体重'))\n",
    "BMI=tizhong/(shengao**2)\n",
    "if BMI<18.5:\n",
    "    print('超轻')\n",
    "else:\n",
    "    if BMI<25:\n",
    "        print('标准')\n",
    "    else:\n",
    "        if BMI<30:\n",
    "            print('超重')\n",
    "        else:\n",
    "            if BMI>=30:\n",
    "                print('痴胖')\n"
   ]
  },
  {
   "cell_type": "markdown",
   "metadata": {},
   "source": [
    "## 逻辑运算符\n",
    "![](../Photo/38.png)"
   ]
  },
  {
   "cell_type": "markdown",
   "metadata": {},
   "source": [
    "![](../Photo/39.png)\n",
    "![](../Photo/40.png)"
   ]
  },
  {
   "cell_type": "markdown",
   "metadata": {},
   "source": [
    "## EP：\n",
    "- 判定闰年：一个年份如果能被4整除但不能被100整除，或者能被400整除，那么这个年份就是闰年\n",
    "- 提示用户输入一个年份，并返回是否是闰年\n",
    "- 提示用户输入一个数字，判断其是否为水仙花数"
   ]
  },
  {
   "cell_type": "code",
   "execution_count": 1,
   "metadata": {},
   "outputs": [
    {
     "name": "stdout",
     "output_type": "stream",
     "text": [
      "请输入年份:2014\n",
      "不是\n"
     ]
    }
   ],
   "source": [
    "year=eval(input('请输入年份:'))\n",
    "if year%4==0 and year%100!=0 or year%400==0:\n",
    "    print('是闰年')\n",
    "else:\n",
    "    print('不是')"
   ]
  },
  {
   "cell_type": "code",
   "execution_count": null,
   "metadata": {},
   "outputs": [],
   "source": [
    "num=eval(input('请输入一个数:'))\n",
    "bai=num//100\n",
    "shi=num//10%10\n",
    "ge=num%10\n",
    "if "
   ]
  },
  {
   "cell_type": "markdown",
   "metadata": {},
   "source": [
    "## 实例研究：彩票\n",
    "![](../Photo/41.png)"
   ]
  },
  {
   "cell_type": "code",
   "execution_count": 11,
   "metadata": {},
   "outputs": [
    {
     "name": "stdout",
     "output_type": "stream",
     "text": [
      "87\n",
      "请输入:87\n"
     ]
    },
    {
     "ename": "TypeError",
     "evalue": "'int' object is not subscriptable",
     "output_type": "error",
     "traceback": [
      "\u001b[1;31m---------------------------------------------------------------------------\u001b[0m",
      "\u001b[1;31mTypeError\u001b[0m                                 Traceback (most recent call last)",
      "\u001b[1;32m<ipython-input-11-a038c0b5e7c6>\u001b[0m in \u001b[0;36m<module>\u001b[1;34m\u001b[0m\n\u001b[0;32m      5\u001b[0m \u001b[0ma_shi\u001b[0m\u001b[1;33m=\u001b[0m\u001b[0ma\u001b[0m\u001b[1;33m//\u001b[0m\u001b[1;36m10\u001b[0m\u001b[1;33m\u001b[0m\u001b[1;33m\u001b[0m\u001b[0m\n\u001b[0;32m      6\u001b[0m \u001b[0ma_ge\u001b[0m\u001b[1;33m=\u001b[0m\u001b[0ma\u001b[0m\u001b[1;33m%\u001b[0m\u001b[1;36m10\u001b[0m\u001b[1;33m\u001b[0m\u001b[1;33m\u001b[0m\u001b[0m\n\u001b[1;32m----> 7\u001b[1;33m \u001b[1;32mif\u001b[0m \u001b[0mn\u001b[0m\u001b[1;33m[\u001b[0m\u001b[1;36m0\u001b[0m\u001b[1;33m]\u001b[0m\u001b[1;33m==\u001b[0m\u001b[1;34m'0'\u001b[0m\u001b[1;33m:\u001b[0m\u001b[1;33m\u001b[0m\u001b[1;33m\u001b[0m\u001b[0m\n\u001b[0m\u001b[0;32m      8\u001b[0m     \u001b[0mn_shi\u001b[0m\u001b[1;33m=\u001b[0m\u001b[1;36m0\u001b[0m\u001b[1;33m\u001b[0m\u001b[1;33m\u001b[0m\u001b[0m\n\u001b[0;32m      9\u001b[0m \u001b[1;32melse\u001b[0m\u001b[1;33m:\u001b[0m\u001b[1;33m\u001b[0m\u001b[1;33m\u001b[0m\u001b[0m\n",
      "\u001b[1;31mTypeError\u001b[0m: 'int' object is not subscriptable"
     ]
    }
   ],
   "source": [
    "import random\n",
    "a=random.randint(10,99)\n",
    "print(a)\n",
    "n=eval(input('请输入:'))\n",
    "a_shi=a//10\n",
    "a_ge=a%10\n",
    "if n[0]=='0':\n",
    "    n_shi=0\n",
    "else:\n",
    "    n_shi=int(n)//10\n",
    "    n_ge=int(n)%10\n",
    "if n==a:\n",
    "    print('1000')\n",
    "elif n_shi+n_ge==a_shi+n_ge:\n",
    "    print('3000')\n",
    "elif (a_ge==n_ge or a_ge==n_shi) or (a_shi==n_shi or a_shi==n_ge):\n",
    "    print('10000')\n",
    "\n"
   ]
  },
  {
   "cell_type": "code",
   "execution_count": 6,
   "metadata": {},
   "outputs": [
    {
     "name": "stdout",
     "output_type": "stream",
     "text": [
      "请输入一个数:58\n",
      "奖金1000美元\n"
     ]
    }
   ],
   "source": [
    "import random\n",
    "num1=eval(input('请输入一个数:'))\n",
    "num2=random.randint(10,99)\n",
    "num3=(num2%10)*10+num2//10\n",
    "if num1==num2:\n",
    "    print('奖金10000美元')\n",
    "else:\n",
    "    if num1==num3:\n",
    "        print('奖金三千美元')\n",
    "    else:\n",
    "        print('奖金1000美元')\n",
    "\n"
   ]
  },
  {
   "cell_type": "markdown",
   "metadata": {},
   "source": [
    "# Homework\n",
    "- 1\n",
    "![](../Photo/42.png)"
   ]
  },
  {
   "cell_type": "code",
   "execution_count": 6,
   "metadata": {},
   "outputs": [
    {
     "name": "stdout",
     "output_type": "stream",
     "text": [
      "请输入一个数:1.0\n",
      "请输入一个数:3\n",
      "请输入一个数:1\n",
      "-0.3819660112501051 2.618033988749895\n"
     ]
    }
   ],
   "source": [
    "import math\n",
    "a=eval(input('请输入一个数:'))\n",
    "b=eval(input('请输入一个数:'))\n",
    "c=eval(input('请输入一个数:'))\n",
    "r1=(-b+math.sqrt(b*b-4*a*c))/2*a\n",
    "r2=(b+math.sqrt(b*b-4*a*c))/2*a\n",
    "if b*b-4*a*c>0:\n",
    "    print(r1,r2)\n",
    "else:\n",
    "    if b*b-4*a*c==0:\n",
    "        print(r1)\n",
    "    else:\n",
    "        if b*b-4*a*c<0:\n",
    "            print('the equation has no real roots')\n",
    "        \n",
    "        "
   ]
  },
  {
   "cell_type": "markdown",
   "metadata": {},
   "source": [
    "- 2\n",
    "![](../Photo/43.png)"
   ]
  },
  {
   "cell_type": "code",
   "execution_count": 7,
   "metadata": {},
   "outputs": [
    {
     "name": "stdout",
     "output_type": "stream",
     "text": [
      "47\n",
      "请输入整数:47\n",
      "1\n"
     ]
    }
   ],
   "source": [
    "import random \n",
    "num1=random.randint(1,100)\n",
    "print(num1)\n",
    "num3=eval(input('请输入整数:'))\n",
    "if num1==num3:\n",
    "    print('1')\n",
    "else:\n",
    "    print('0')\n"
   ]
  },
  {
   "cell_type": "markdown",
   "metadata": {},
   "source": [
    "- 3\n",
    "![](../Photo/44.png)"
   ]
  },
  {
   "cell_type": "code",
   "execution_count": 10,
   "metadata": {},
   "outputs": [
    {
     "name": "stdout",
     "output_type": "stream",
     "text": [
      "Enter today ’s day:0\n",
      "Enter the number of days elapsed since today:31\n",
      "wednesday\n"
     ]
    }
   ],
   "source": [
    "day=eval(input('Enter today ’s day:'))\n",
    "fday=eval(input('Enter the number of days elapsed since today:'))\n",
    "a=fday%7+day\n",
    "if a==0:\n",
    "    print('monday')\n",
    "elif a==1:\n",
    "    print('Tuesday')\n",
    "elif a==2:\n",
    "    print('Thursday')\n",
    "elif a==3:\n",
    "    print('wednesday')\n",
    "elif a==4:\n",
    "    print('Friday')\n",
    "elif a==5:\n",
    "    print('saturday')\n",
    "else:\n",
    "    print('sunday')\n"
   ]
  },
  {
   "cell_type": "markdown",
   "metadata": {},
   "source": [
    "- 4\n",
    "![](../Photo/45.png)"
   ]
  },
  {
   "cell_type": "code",
   "execution_count": 4,
   "metadata": {},
   "outputs": [
    {
     "name": "stdout",
     "output_type": "stream",
     "text": [
      "请输入一个整数:3\n",
      "请输入一个整数:4\n",
      "请输入一个整数5\n",
      "3 4 5\n"
     ]
    }
   ],
   "source": [
    "num1=eval(input('请输入一个整数:'))\n",
    "num2=eval(input('请输入一个整数:'))\n",
    "num3=eval(input('请输入一个整数'))\n",
    "if num1>num2:\n",
    "    num1,num2=num2,num1\n",
    "elif num1>num3:\n",
    "    num1,num3=num3,num1\n",
    "elif num2>num3:\n",
    "    num2,num3=num3,num2\n",
    "else:\n",
    "    print(num1,num2,num3)\n",
    "\n",
    "    "
   ]
  },
  {
   "cell_type": "markdown",
   "metadata": {},
   "source": [
    "- 5\n",
    "![](../Photo/46.png)"
   ]
  },
  {
   "cell_type": "code",
   "execution_count": 5,
   "metadata": {},
   "outputs": [
    {
     "name": "stdout",
     "output_type": "stream",
     "text": [
      "请输入第一种方案:50,24.59\n",
      "请输入第二种方案:25,11.99\n",
      "package 2 is better price\n"
     ]
    }
   ],
   "source": [
    "w1,p1=eval(input('请输入第一种方案:'))\n",
    "w2,p2=eval(input('请输入第二种方案:'))\n",
    "if w1>w2 and p1>p2:\n",
    "    print('package 2 is better price')\n",
    "elif w1<w2 and p1>p2:\n",
    "    print('package 2 is better price')\n",
    "else:\n",
    "    print('package 1 is better price')\n",
    "    \n"
   ]
  },
  {
   "cell_type": "markdown",
   "metadata": {},
   "source": [
    "- 6\n",
    "![](../Photo/47.png)"
   ]
  },
  {
   "cell_type": "code",
   "execution_count": 9,
   "metadata": {},
   "outputs": [
    {
     "name": "stdout",
     "output_type": "stream",
     "text": [
      "请输入年份:2000\n",
      "请输入月份:2\n",
      "29\n"
     ]
    }
   ],
   "source": [
    "year=eval(input('请输入年份:'))\n",
    "month=eval(input('请输入月份:'))\n",
    "if (year%4==0 and year%100!=0) or year%400==0:\n",
    "    if (month==2):\n",
    "        print(29)\n",
    "    if (month==1 or month==3 or month==5 or month==7 or month==8 or month==10 or month==12):\n",
    "        print(31)\n",
    "    if (month==4 or month==6 or month==9 or month==11):\n",
    "        print(30)\n",
    "if (year%4!=0 and year%100==0) or year%400!=0:\n",
    "    if (month==2):\n",
    "        print(28)\n",
    "    if (month==1 or month==3 or month==5 or month==7 or month==8 or month==10 or month==12):\n",
    "        print(31)\n",
    "    if (month==4 or month==6 or month==9 or month==11):\n",
    "        print(30)"
   ]
  },
  {
   "cell_type": "markdown",
   "metadata": {},
   "source": [
    "- 7\n",
    "![](../Photo/48.png)"
   ]
  },
  {
   "cell_type": "code",
   "execution_count": 12,
   "metadata": {},
   "outputs": [
    {
     "name": "stdout",
     "output_type": "stream",
     "text": [
      "1\n",
      "输入一个猜测值:[0/1]1\n",
      "正确\n"
     ]
    }
   ],
   "source": [
    "import random\n",
    "a=random.randint(0,1)\n",
    "print(a)\n",
    "cai=eval(input('输入一个猜测值:[0/1]'))\n",
    "if cai==a:\n",
    "    print('正确')\n",
    "else:\n",
    "    print('错误')\n"
   ]
  },
  {
   "cell_type": "markdown",
   "metadata": {},
   "source": [
    "- 8\n",
    "![](../Photo/49.png)"
   ]
  },
  {
   "cell_type": "code",
   "execution_count": 3,
   "metadata": {},
   "outputs": [
    {
     "name": "stdout",
     "output_type": "stream",
     "text": [
      "0\n",
      ">>1\n",
      "你赢了\n"
     ]
    }
   ],
   "source": [
    "import random\n",
    "you=random.randint(0,2)\n",
    "print(you)\n",
    "me=eval(input('>>'))\n",
    "if you==me:\n",
    "    print('平局')\n",
    "elif you>me:\n",
    "    print('你输了')\n",
    "else:\n",
    "    you<me\n",
    "    print('你赢了')\n",
    "    \n",
    "\n",
    "\n"
   ]
  },
  {
   "cell_type": "markdown",
   "metadata": {},
   "source": [
    "- 9\n",
    "![](../Photo/50.png)"
   ]
  },
  {
   "cell_type": "code",
   "execution_count": null,
   "metadata": {},
   "outputs": [],
   "source": []
  },
  {
   "cell_type": "markdown",
   "metadata": {},
   "source": [
    "- 10\n",
    "![](../Photo/51.png)"
   ]
  },
  {
   "cell_type": "code",
   "execution_count": 5,
   "metadata": {},
   "outputs": [
    {
     "name": "stdout",
     "output_type": "stream",
     "text": [
      "请你输入一张牌:11\n",
      "输入的花色:2\n",
      "方块J\n"
     ]
    }
   ],
   "source": [
    "num1=eval(input('请你输入一张牌:'))\n",
    "num2=eval(input('输入的花色:'))\n",
    "if num1==1:\n",
    "    if num2==1:\n",
    "        print('红A')\n",
    "    if num2==2:\n",
    "        print('方块A')\n",
    "    if num2==3:\n",
    "        print('黑桃A')\n",
    "    if num2==4:\n",
    "        print('梅花A')\n",
    "if num1==2:\n",
    "    if num2==1:\n",
    "        print('红2')\n",
    "    if num2==2:\n",
    "        print('方块2')\n",
    "    if num2==3:\n",
    "        print('黑桃2')\n",
    "    if num2==4:\n",
    "        print('梅花2')\n",
    "if num1==3:\n",
    "    if num2==1:\n",
    "        print('红3')\n",
    "    if num2==2:\n",
    "        print('方块3')\n",
    "    if num2==3:\n",
    "        print('黑桃3')\n",
    "    if num2==4:\n",
    "        print('梅花3')\n",
    "if num1==4:\n",
    "    if num2==1:\n",
    "        print('红4')\n",
    "    if num2==2:\n",
    "        print('方块4')\n",
    "    if num2==3:\n",
    "        print('黑桃4')\n",
    "    if num2==4:\n",
    "        print('梅花4')\n",
    "if num1==5:\n",
    "    if num2==1:\n",
    "        print('红5')\n",
    "    if num2==2:\n",
    "        print('方块5')\n",
    "    if num2==3:\n",
    "        print('黑桃5')\n",
    "    if num2==4:\n",
    "        print('梅花5')\n",
    "if num1==6:\n",
    "    if num2==1:\n",
    "        print('红6')\n",
    "    if num2==2:\n",
    "        print('方块6')\n",
    "    if num2==3:\n",
    "        print('黑桃6')\n",
    "    if num2==4:\n",
    "        print('梅花6')\n",
    "if num1==7:\n",
    "    if num2==1:\n",
    "        print('红7')\n",
    "    if num2==2:\n",
    "        print('方块7')\n",
    "    if num==3:\n",
    "        print('黑桃7')\n",
    "    if num==4:\n",
    "        print('梅花7')\n",
    "if num1==8:\n",
    "    if num2==1:\n",
    "        print('红8')\n",
    "    if num2==2:\n",
    "        print('方块8')\n",
    "    if num==3:\n",
    "        print('黑桃8')\n",
    "    if num==4:\n",
    "        print('梅花8')\n",
    "if num1==9:\n",
    "    if num2==1:\n",
    "        print('红9')\n",
    "    if num2==2:\n",
    "        print('方块9')\n",
    "    if num==3:\n",
    "        print('黑桃9')\n",
    "    if num==4:\n",
    "        print('梅花9')\n",
    "if num1==10:\n",
    "    if num2==1:\n",
    "        print('红10')\n",
    "    if num2==2:\n",
    "        print('方块10')\n",
    "    if num2==3:\n",
    "        print('黑桃10')\n",
    "    if num4==4:\n",
    "        print('梅花10')\n",
    "if num1==1:\n",
    "    if num2==1:\n",
    "        print('红A')\n",
    "    if num2==2:\n",
    "        print('方块A')\n",
    "    if num2==3:\n",
    "        print('黑桃A')\n",
    "    if num2==4:\n",
    "        print('梅花A')\n",
    "if num1==1:\n",
    "    if num2==1:\n",
    "        print('红A')\n",
    "    if num2==2:\n",
    "        print('方块A')\n",
    "    if num2==3:\n",
    "        print('黑桃A')\n",
    "    if num2==4:\n",
    "        print('梅花A')\n",
    "if num1==11:\n",
    "    if num2==1:\n",
    "        print('红J')\n",
    "    if num2==2:\n",
    "        print('方块J')\n",
    "    if num2==3:\n",
    "        print('黑桃J')\n",
    "    if num2==4:\n",
    "        print('梅花J')\n",
    "if num1==12:\n",
    "    if num2==1:\n",
    "        print('红Q')\n",
    "    if num2==2:\n",
    "        print('方块Q')\n",
    "    if num2==3:\n",
    "        print('黑桃Q')\n",
    "    if num2==4:\n",
    "        print('梅花Q')\n",
    "if num1==13:\n",
    "    if num2==1:\n",
    "        print('红K')\n",
    "    if num2==2:\n",
    "        print('方块K')\n",
    "    if num2==3:\n",
    "        print('黑桃K')\n",
    "    if num2==4:\n",
    "        print('梅花K')\n",
    "    \n"
   ]
  },
  {
   "cell_type": "markdown",
   "metadata": {},
   "source": [
    "- 11\n",
    "![](../Photo/52.png)"
   ]
  },
  {
   "cell_type": "code",
   "execution_count": 8,
   "metadata": {},
   "outputs": [
    {
     "name": "stdout",
     "output_type": "stream",
     "text": [
      "请输入一个三位数:123\n",
      "是回文\n"
     ]
    }
   ],
   "source": [
    "a=input('请输入一个三位数:')\n",
    "i=len(a)\n",
    "flag=True\n",
    "for i in range(1,1//2):\n",
    "    if [i-1]!=a[-1]:\n",
    "        flag=False\n",
    "        break\n",
    "if flag:\n",
    "    print('是回文')\n",
    "else:\n",
    "    print('不是回文')"
   ]
  },
  {
   "cell_type": "markdown",
   "metadata": {},
   "source": [
    "- 12\n",
    "![](../Photo/53.png)"
   ]
  },
  {
   "cell_type": "code",
   "execution_count": 4,
   "metadata": {},
   "outputs": [
    {
     "name": "stdout",
     "output_type": "stream",
     "text": [
      "请输入三条边:1,1,1\n",
      "3\n"
     ]
    }
   ],
   "source": [
    "x1,x2,x3=eval(input('请输入三条边:'))\n",
    "if x1+x2>x3 and x1+x3>x2 and x2+x3>x1:\n",
    "    print(x1+x2+x3)\n",
    "else:\n",
    "    print('不合法')"
   ]
  },
  {
   "cell_type": "code",
   "execution_count": null,
   "metadata": {},
   "outputs": [],
   "source": []
  }
 ],
 "metadata": {
  "kernelspec": {
   "display_name": "Python 3",
   "language": "python",
   "name": "python3"
  },
  "language_info": {
   "codemirror_mode": {
    "name": "ipython",
    "version": 3
   },
   "file_extension": ".py",
   "mimetype": "text/x-python",
   "name": "python",
   "nbconvert_exporter": "python",
   "pygments_lexer": "ipython3",
   "version": "3.7.3"
  }
 },
 "nbformat": 4,
 "nbformat_minor": 2
}
